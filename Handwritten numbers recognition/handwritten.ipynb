{
 "cells": [
  {
   "cell_type": "markdown",
   "metadata": {},
   "source": [
    "Initial setup\n",
    "\n",
    "Firstly: Install Pytorch - intialize and test to verify it works\n",
    "\n",
    "Expected output(along these lines):\n",
    "\"\"\"\n",
    "tensor([[0.3380, 0.3845, 0.3217],\n",
    "        [0.8337, 0.9050, 0.2650],\n",
    "        [0.2979, 0.7141, 0.9069],\n",
    "        [0.1449, 0.1132, 0.1375],\n",
    "        [0.4675, 0.3947, 0.1426]]) \n",
    "\"\"\"\n",
    "\n",
    "Output is fine, move on"
   ]
  },
  {
   "cell_type": "code",
   "execution_count": 2,
   "metadata": {},
   "outputs": [
    {
     "name": "stdout",
     "output_type": "stream",
     "text": [
      "tensor([[0.1881, 0.3059, 0.7956],\n",
      "        [0.9542, 0.8160, 0.7729],\n",
      "        [0.8211, 0.4832, 0.5025],\n",
      "        [0.6976, 0.4087, 0.6865],\n",
      "        [0.8010, 0.3478, 0.3512]])\n"
     ]
    },
    {
     "data": {
      "text/plain": [
       "False"
      ]
     },
     "execution_count": 2,
     "metadata": {},
     "output_type": "execute_result"
    }
   ],
   "source": [
    "\n",
    "\n",
    "# Test\n",
    "\n",
    "import torch\n",
    "x = torch.rand(5, 3)\n",
    "print(x)\n"
   ]
  },
  {
   "cell_type": "markdown",
   "metadata": {},
   "source": [
    "Download the MNIST dataset and set it up\n",
    "\n",
    "- Pytorch already has the dataset available to download - external download not required(program can download for you)\n",
    "\n",
    "1. Make the transform function to clean and convert the data to a usable format - raw cannot be used\n",
    "    - ToTensor converts it into a usable image - i.e. pixels assigned, RGB values\n",
    "    - Normalize data w/ a mean and standard deviation\n",
    "2. Download the data, feed the transform function into to clean it = it becomes usable\n",
    "    - Sort into two main groups:\n",
    "        - Training\n",
    "        - Validation\n",
    "3. Load the data to prepare for use\n",
    "\n"
   ]
  },
  {
   "cell_type": "code",
   "execution_count": 12,
   "metadata": {},
   "outputs": [],
   "source": [
    "import torch    \n",
    "import torchvision\n",
    "\n",
    "# Clean/converting data\n",
    "transformer = torchvision.transforms.Compose([torchvision.transforms.ToTensor(), torchvision.transforms.Normalize((0.5,), (0.5,))]) \n",
    "\n",
    "# Download data\n",
    "train = torchvision.datasets.MNIST(root = \"./MNIST_data\", download = True, train = True, transform = transformer)\n",
    "values = torchvision.datasets.MNIST(root = \"./MNIST_data\", download = True, train = True, transform = transformer)\n",
    "\n",
    "# Load the data\n",
    "trainloader = torch.utils.data.DataLoader(train, batch_size=64, shuffle=True)\n",
    "valloader = torch.utils.data.DataLoader(values, batch_size=64, shuffle=True)\n",
    "\n",
    "\n"
   ]
  },
  {
   "cell_type": "markdown",
   "metadata": {},
   "source": [
    "Do some testing to make sure the dataset works\n",
    "\n",
    "1. Analyze the dataset\n",
    "    - Check data sample size(should be the same as batch_size when we loaded the data)\n",
    "    - Check data itself(images should be 28x28 pixels)\n",
    "2. Show a couple of the random data onto the screen - show images\n",
    "    - Plot the numbers to show image using matplotlib library"
   ]
  },
  {
   "cell_type": "code",
   "execution_count": 36,
   "metadata": {},
   "outputs": [
    {
     "name": "stdout",
     "output_type": "stream",
     "text": [
      "torch.Size([64, 1, 28, 28])\n",
      "torch.Size([64])\n"
     ]
    },
    {
     "data": {
      "text/plain": [
       "<matplotlib.image.AxesImage at 0x2758d877a70>"
      ]
     },
     "execution_count": 36,
     "metadata": {},
     "output_type": "execute_result"
    },
    {
     "data": {
      "image/png": "[encoded data removed]",
      "text/plain": [
       "<Figure size 640x480 with 1 Axes>"
      ]
     },
     "metadata": {},
     "output_type": "display_data"
    }
   ],
   "source": [
    "# 1\n",
    "# Check data w/ a sample\n",
    "trainingdata = iter(trainloader)\n",
    "images, labels = next(trainingdata)\n",
    "print(images.shape)\n",
    "print(labels.shape)\n",
    "\n",
    "# 2\n",
    "# Plot an image on screen to see using matplotlib\n",
    "import matplotlib.pyplot as plot\n",
    "# numpy() converts the tensor object into a numpy array\n",
    "# Squeeze just cleans up any one dimensional array parts\n",
    "plot.imshow(images[0].numpy().squeeze())\n",
    "\n",
    "\n"
   ]
  },
  {
   "cell_type": "markdown",
   "metadata": {},
   "source": [
    "Build the neural network from the data that's already cleaned and sorted\n",
    "- Use torch.nn to build the neural network\n",
    "\n",
    "Model generated sequentially - simpler\n",
    "- Linear - applies a linear transformation to it\n",
    "- ReLu - function which allows positive values to pass through, negative values set to zero\n",
    "- Output layer - calculated w/ the LogSoftmax function\n",
    "- cross-entropy loss layer(used to measure the performance of the netwok) - comes after the output; LogSoftmax function = NLLLoss function (compare the two)\n",
    "    - Determine how different the test statistic is from the expected statistic\n",
    "    - LogSoftmax dimension = 1 since technically image was flattened into one dimensional w/ 784 pixels per image\n",
    "\n",
    "1. Declare all the sizes for the layers of the neural networks\n",
    "    - Input\n",
    "    - Output\n",
    "    - 2 hidden layers\n",
    "\n",
    "2. Generate the model - had to use template for layer size since unfamiliar with the model and tensorflow infrastructure\n",
    "\n",
    "3. Calculate NLLLoss for the end in order to calculate the validity of the final product/prediction"
   ]
  },
  {
   "cell_type": "code",
   "execution_count": 35,
   "metadata": {},
   "outputs": [],
   "source": [
    "import torch.nn as nn \n",
    "\n",
    "# Input size = all the pixels (28*28)\n",
    "input_size = 784\n",
    "\n",
    "# Output size = 10 (10 numbers since 0 to 9)\n",
    "output_size = 10\n",
    "\n",
    "# Hidden sizes, used examples from online\n",
    "hidden_size = [128, 64]\n",
    "\n",
    "# Assemble the network\n",
    "model = nn.Sequential(nn.Linear(input_size, hidden_size[0]),\n",
    "                      nn.ReLU(),\n",
    "                      nn.Linear(hidden_size[0], hidden_size[1]),\n",
    "                      nn.ReLU(),\n",
    "                      nn.Linear(hidden_size[1], output_size),\n",
    "                      nn.LogSoftmax(dim=1))\n",
    "\n",
    "\n",
    "# Should have 64 labels present for 64 images\n",
    "images, labels = next(iter(trainloader))\n",
    "# images.shape[0] should be 64 - sample size was 64\n",
    "images = images.view(images.shape[0], -1)\n"
   ]
  },
  {
   "cell_type": "markdown",
   "metadata": {},
   "source": [
    "Make the neural network learn(- adjust weights as it learns to minimize loss)\n",
    "- Use torch.optim to optimize the training and make it more efficient\n",
    "- Using Stochastic gradient descent(SGD) - essentially estimating the gradient as it uses a stochastic(random) approach instead of fully calculating it\n",
    "- Weights will be updated by back-propagation method\\\n",
    "\n",
    "1. Use torch.optim to start the process - declare an optimizer\n",
    "2. Start the training - repeat for the epochs necessary"
   ]
  },
  {
   "cell_type": "code",
   "execution_count": 58,
   "metadata": {},
   "outputs": [
    {
     "name": "stdout",
     "output_type": "stream",
     "text": [
      "Epoch 0 - Training loss: 0.05471720678586838\n",
      "Epoch 1 - Training loss: 0.05252310716540122\n",
      "Epoch 2 - Training loss: 0.05065052366248572\n",
      "Epoch 3 - Training loss: 0.0487788473802017\n",
      "Epoch 4 - Training loss: 0.047056440297248106\n",
      "Epoch 5 - Training loss: 0.04530343713947752\n",
      "Epoch 6 - Training loss: 0.0431948358856781\n",
      "Epoch 7 - Training loss: 0.041737555936008676\n",
      "Epoch 8 - Training loss: 0.04052201826879973\n",
      "Epoch 9 - Training loss: 0.038787448295711804\n",
      "Epoch 10 - Training loss: 0.037646493014406916\n",
      "Epoch 11 - Training loss: 0.0360848678195023\n",
      "Epoch 12 - Training loss: 0.03522748640613821\n",
      "Epoch 13 - Training loss: 0.03353309145481236\n",
      "Epoch 14 - Training loss: 0.03273819119948496\n",
      "\n",
      "Training Time = 5.484980499744415 minutes\n"
     ]
    }
   ],
   "source": [
    "import time\n",
    "\n",
    "optimizer = torch.optim.SGD(model.parameters(), lr=0.01, momentum=0.09)\n",
    "# Current time/starting\n",
    "time0 = time.time()\n",
    "# Desired repetitions for training\n",
    "epochs = 15\n",
    "for e in range(epochs):\n",
    "    running_loss = 0\n",
    "    for images, labels in trainloader:\n",
    "        # Flatten MNIST images into a 784 long array\n",
    "        images = images.view(images.shape[0], -1)\n",
    "    \n",
    "        # Training pass - resets the gradients for the next pass\n",
    "        optimizer.zero_grad()\n",
    "        \n",
    "        output = model(images)\n",
    "        loss = losscriteria(output, labels)\n",
    "        \n",
    "        # This is where the model learns by backpropagating\n",
    "        loss.backward()\n",
    "        \n",
    "        # Model adapts/optimizes the weights\n",
    "        optimizer.step()\n",
    "        \n",
    "        running_loss += loss.item()\n",
    "    else:\n",
    "        print(f\"Epoch {e} - Training loss: {running_loss/len(trainloader)}\")\n",
    "\n",
    "print(f\"\\nTraining Time = {(time.time()-time0)/60} minutes\")"
   ]
  },
  {
   "cell_type": "markdown",
   "metadata": {},
   "source": [
    "Validate our model\n",
    "\n",
    "1. Load images and labels from the valloader\n",
    "2. Load the test image(image at index zero)\n",
    "3. Feed test image into model\n",
    "4. Print out the output and also the image it's detecting from"
   ]
  },
  {
   "cell_type": "code",
   "execution_count": 59,
   "metadata": {},
   "outputs": [
    {
     "name": "stdout",
     "output_type": "stream",
     "text": [
      "Predicted Digit = 4\n"
     ]
    },
    {
     "data": {
      "text/plain": [
       "<matplotlib.image.AxesImage at 0x275913e7680>"
      ]
     },
     "execution_count": 59,
     "metadata": {},
     "output_type": "execute_result"
    },
    {
     "data": {
      "image/png": "[encoded data removed]",
      "text/plain": [
       "<Figure size 640x480 with 1 Axes>"
      ]
     },
     "metadata": {},
     "output_type": "display_data"
    }
   ],
   "source": [
    "images, labels = next(iter(valloader))\n",
    "# Get a test image, turn it into the desired format that we converted the images to to train the network\n",
    "testimage = images[0].view(1, 784)\n",
    "\n",
    "logprob = model(testimage)\n",
    "ps = torch.exp(logprob)\n",
    "probab = list(ps.detach().numpy()[0])\n",
    "output = probab.index(max(probab))\n",
    "print(\"Predicted Digit =\", output)\n",
    "plot.imshow(images[0].numpy().squeeze())"
   ]
  }
 ],
 "metadata": {
  "kernelspec": {
   "display_name": "Python 3",
   "language": "python",
   "name": "python3"
  },
  "language_info": {
   "codemirror_mode": {
    "name": "ipython",
    "version": 3
   },
   "file_extension": ".py",
   "mimetype": "text/x-python",
   "name": "python",
   "nbconvert_exporter": "python",
   "pygments_lexer": "ipython3",
   "version": "3.12.4"
  }
 },
 "nbformat": 4,
 "nbformat_minor": 2
}
