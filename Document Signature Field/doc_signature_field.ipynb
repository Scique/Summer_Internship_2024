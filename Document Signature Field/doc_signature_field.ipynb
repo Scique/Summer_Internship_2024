{
 "cells": [
  {
   "cell_type": "markdown",
   "metadata": {},
   "source": [
    "# Purpose: Detect signature fields in documents\n",
    "\n",
    "How the implementation will work:\n",
    "1. Image or PDF file?\n",
    "\t- Image: move on to next step\n",
    "\t- PDF: extract PDF pages into multiple images\n",
    "2. Send each image into ChatGPT - return whether or not each image has a signature field inside it or not. \n",
    "\t- Yes: Move onto next step\n",
    "\t- No: Scan next image/stop program if no more images\n",
    "3. Use OCR(optical character recognition) to analyze the text in the images - analyze in English and Thai\n",
    "4. Get the position of the text where it says something like \"siganture\" or \"name\" or \"first name\" or \"last name\" or \"surname\" \n",
    "5. Create variations of the documents with each possible place for the signature marked with a bounding box\n",
    "6. Send into GPT and have it check if the box marked is really the signature field\n",
    "\t- For the ones that are, save the coords of those boxes and then combine it all back into one image. \n",
    "8. Save that image and display it to the user "
   ]
  },
  {
   "cell_type": "markdown",
   "metadata": {},
   "source": [
    "# Step 1: Image or PDF?\n",
    "\n",
    "- If PDF, extract iamges\n",
    "\n",
    "# Step 2: Have GPT check if it has a singature field or not\n",
    "\n",
    "- Since we're iterating through the images anyways might as well have GPT open them and check"
   ]
  },
  {
   "cell_type": "code",
   "execution_count": 3,
   "metadata": {},
   "outputs": [],
   "source": [
    "import os\n",
    "from pdf2image import convert_from_path\n",
    "from dotenv import dotenv_values\n",
    "from openai import AzureOpenAI\n",
    "import base64\n",
    "import requests\n",
    "\n",
    "secrets = dotenv_values(\"../.env\")\n",
    "\n",
    "fileDirPath = \"./files\"\n",
    "\n",
    "imagesDirPath = \"./images\"\n",
    "\n",
    "signatureDocList = []\n",
    "\n",
    "\n",
    "# First convert image given locally to a base 64 encoding in order to be able to pass it through to GPT\n",
    "def encodeImage(pathLink:str):\n",
    "\twith open(pathLink, \"rb\") as image_file:\n",
    "\t\treturn base64.b64encode(image_file.read()).decode('utf-8')\n",
    "\n",
    "# Send in an image along with the 'instructional' prompt to GPT and get it's response\n",
    "# Allowing instruction prompt to be changed with call of function so that we can reuse this function for the GPT signature field doube check\n",
    "def imgSignatureFieldCheck(pathLink: str, urlOrNot: bool, secrets, prompt):\n",
    "\theaders = {\n",
    "\t\t\"Content-Type\": \"application/json\",\n",
    "\t\t\"Authorization\": f\"Bearer {secrets[\"AZURE_OPENAI_API_KEY\"]}\"\n",
    "\t}\n",
    "\t# If the link provided is a url or not\n",
    "\t# Pass in both the 'instructional' prompt and the image to GPT\n",
    "\t# Need to make payload and header since we need to send it in as a request in order to be able to attach an image to it\n",
    "\tpayload = None\n",
    "\tif urlOrNot:\n",
    "\t\tpayload = {\"model\": \"gpt-4o\", \"messages\": prompt + [{\"role\": \"user\", \"content\": [{\"type\": \"image_url\", \"image_url\":{\"url\": pathLink}}]}]}\n",
    "\telse:\n",
    "\t\tencodedImage = encodeImage(pathLink)\n",
    "\t\tpayload = {\"model\": \"gpt-4o\", \"messages\": prompt + [{\"role\": \"user\", \"content\": [{\"type\": \"image_url\", \"image_url\": {\"url\": f\"data:image/jpeg;base64,{encodedImage}\"}}]}]}\n",
    "\t\n",
    "\tresponse = requests.post(secrets[\"AZURE_OPENAI_ENDPOINT\"], headers=headers, json=payload)\n",
    "\n",
    "\treturn response.content\n",
    "\t\n",
    "# Instruction prompt for GPT for what to do\n",
    "instructionPrompt = [{\"role\":\"system\", \"content\": \"You are an image checker who will check whether or not a document image contains a signature field or not. The signature field can be in any language but will usually be Thai or Enligsh. You will return the result of that detection strictly as a boolean value. You output should ONLY be either 'true' or 'false' and shouldn't have anything else inside it. \"}]\n",
    "# Iterate through the directory files\n",
    "for root, dirs, files in os.walk(fileDirPath):\n",
    "\tfor filename in files:\n",
    "\t\tprint(filename)\n",
    "\t\t# Check the type of file using the name\n",
    "\t\tfiletype = filename.split(\".\")[-1]\n",
    "\t\tif filetype == \"pdf\":\n",
    "\t\t\t# Split the pdf into images\n",
    "\t\t\tconvertedImages = convert_from_path(f\"{fileDirPath}/{filename}\")\n",
    "\t\t\t# Save the converted images\n",
    "\t\t\tfor i in range(len(convertedImages)):\n",
    "\t\t\t\tnewImgPath = f\"{imagesDirPath}/{filename.split(\".\")[0]}_{i}.jpg\"\n",
    "\t\t\t\tconvertedImages[i].save(newImgPath, \"JPEG\")\n",
    "\t\t\t\tif not bool(imgSignatureFieldCheck(newImgPath, False, secrets, instructionPrompt)):\n",
    "\t\t\t\t\tos.remove(newImgPath)\n",
    "\n",
    "\t\t# If it's an image just move it\n",
    "\t\telif filetype in (\"png\", \"jpeg\", \"jpg\"):\n",
    "\t\t\t# Check if it has a signature field\n",
    "\t\t\tsigOrNot = bool(imgSignatureFieldCheck(f\"{fileDirPath}/{filename}\", False, secrets, instructionPrompt))\n",
    "\t\t\tprint(sigOrNot)\n",
    "\t\t\tif sigOrNot:\n",
    "\t\t\t\t# Move to the image directory\n",
    "\t\t\t\tos.rename(f\"{fileDirPath}/{filename}\", f\"{imagesDirPath}/{filename}\")\n",
    "\n"
   ]
  },
  {
   "cell_type": "markdown",
   "metadata": {},
   "source": [
    "# Step 3 - OCR to analyze the text in the images and determine where the signature fields are\n",
    "# Step 4 - Check which words match up to signature fields and save to .csv file\n",
    "\n",
    "- Find the boxes with words that match up to the words commonly used in the signature fields\n",
    "- Get a rectangular shape that encompasses all of the words that match with - set as designated signature field zone"
   ]
  },
  {
   "cell_type": "code",
   "execution_count": 4,
   "metadata": {},
   "outputs": [
    {
     "name": "stdout",
     "output_type": "stream",
     "text": [
      "Finished processing and saving the OCR results that match signature fields. \n"
     ]
    }
   ],
   "source": [
    "import easyocr\n",
    "import os\n",
    "import csv\n",
    "\n",
    "# Create the reader obj instance - supports both English and Thai\n",
    "reader = easyocr.Reader([\"en\", \"th\"], gpu=True)\n",
    "\n",
    "# Words that are used for signature fields; cr: found by gemini, some words were cut off and some were added in by me too\n",
    "signatureWords = [\n",
    "\t\"signature\", \"ลายเซ็น\",\n",
    "\t\"sign\", \"เซ็น\",\n",
    "\t\"signed\", \"ลงนาม\",\n",
    "\t\"date\", \"วันที่\",\n",
    "\t\"name\", \"ชื่อ\",\n",
    "\t\"title\", \"ตำแหน่ง\",\n",
    "\t\"printed name\", \"ชื่อพิมพ์\",\n",
    "\t\"authorized signature\", \"ลายเซ็นที่ได้รับอนุญาต\",\n",
    "\t\"signer\", \"ผู้ลงนาม\",\n",
    "\t\"witness\", \"พยาน\",\n",
    "\t\"initials\", \"อักษรย่อ\",\n",
    "\t\"signature line\", \"เส้นลายเซ็น\",\n",
    "\t\"signature block\", \"บล็อกลายเซ็น\",\n",
    "\t\"signature field\", \"ช่องลายเซ็น\",\n",
    "\t\"electronic signature\", \"ลายเซ็นอิเล็กทรอนิกส์\",\n",
    "\t\"digital signature\", \"ลายเซ็นดิจิทัล\",\n",
    "\t\"signature of applicant\", \"ลายเซ็นของผู้สมัคร\",\n",
    "\t\"signature of authorized person\", \"ลายเซ็นของผู้ที่ได้รับอนุญาต\",\n",
    "\t\"signature of representative\", \"ลายเซ็นของตัวแทน\",\n",
    "\t\"signature of witness\", \"ลายเซ็นของพยาน\"\n",
    "]\n",
    "\n",
    "fileDirPath = \"./files\"\n",
    "\n",
    "imagesDirPath = \"./images\"\n",
    "\n",
    "signatureFiles = {}\n",
    "filenames = []\n",
    "# Read through each text in the images folder\n",
    "# Save it to the .csv\n",
    "with open(\"signature_files_coords.csv\", \"w+\", encoding=\"UTF-8\") as file:\n",
    "\tdictwriter = csv.DictWriter(file, fieldnames = [\"filename\", \"results\"])\n",
    "\tfor root, dirs, files in os.walk(imagesDirPath):\n",
    "\t\tfor filename in files:\n",
    "\t\t\tfilenames.append(filename)\n",
    "\t\t\tresults = reader.readtext(f\"{imagesDirPath}/{filename}\")\n",
    "\t\t\t# Add the coordinates to the signature file if the text is inside the signature words\n",
    "\t\t\tmatchedText = {}\n",
    "\t\t\tfor result in results:\n",
    "\t\t\t\tfor word in signatureWords:\n",
    "\t\t\t\t\t# Check if any signature word is inside the words scanned from the page\n",
    "\t\t\t\t\tif (word in result[1]) and (result[2] > 0.7) and (len(word) < 20):\n",
    "\t\t\t\t\t\t# Add the coordinates into a collected dict of coords and words that match\n",
    "\t\t\t\t\t\tmatchedText[result[1]] = result[0]\n",
    "\t\t\tdictwriter.writerow({\"filename\": filename, \"results\": matchedText})\n",
    "\t\t\n",
    "\n",
    "print(\"Finished processing and saving the OCR results that match signature fields. \")\n",
    "\n",
    "\n"
   ]
  },
  {
   "cell_type": "markdown",
   "metadata": {},
   "source": [
    "# Step 5. Create variations of the documents with each possible place for the signature marked with a bounding box\n",
    "# Step 6. Send into GPT and have it check if the box marked is really the signature field\n",
    " \n",
    "- Open the files/signature data first to load it for use"
   ]
  },
  {
   "cell_type": "code",
   "execution_count": 5,
   "metadata": {},
   "outputs": [
    {
     "name": "stdout",
     "output_type": "stream",
     "text": [
      "{'--1086x1536.jpg': {'(ลงลายมือชื่อ)': [[560, 1360], [678, 1360], [678, 1390], [560, 1390]], '(ลงลายมือชื่อ)_': [[194, 1242], [314, 1242], [314, 1274], [194, 1274]]}, '-.1-1086x1536.jpg': {'ชื่อห้างหุ้นส่วนหรือบริษัท.': [[139, 223], [318, 223], [318, 256], [139, 256]], 'วันที่จดทะเบียน': [[590, 268], [700, 268], [700, 294], [590, 294]], 'คนขึ้นไป เมื่อวันที่': [[294, 518], [420, 518], [420, 549], [294, 549]], 'ลงชื่อ': [[468, 1330], [512, 1330], [512, 1356], [468, 1356]], 'ลงชื่อ_': [[468, 1390], [512, 1390], [512, 1416], [468, 1416]], 'วันที่': [[468, 1450], [506, 1450], [506, 1476], [468, 1476]]}, '-.2-2-1086x1536.jpg': {'คำรับรองลายมือชื่อของพยาน': [[431, 61], [699, 61], [699, 99], [431, 99]], '(ลงลายมือชื่อ': [[509, 574], [610, 574], [610, 603], [509, 603]], '(ลงลายมือชื่อ)': [[278, 1315], [385, 1315], [385, 1351], [278, 1351]], '(ลงลายมือชื่อ).': [[556, 1448], [662, 1448], [662, 1476], [556, 1476]]}, '-.3-1-1086x1536.jpg': {'(ลงลายมือชื่อ)': [[244, 1277], [359, 1277], [359, 1313], [244, 1313]], '(ลงลายมือชื่อ).': [[574, 1412], [688, 1412], [688, 1442], [574, 1442]]}, '-.3-2-1086x1536.jpg': {'(ลงลายมือชื่อ).': [[270, 1276], [376, 1276], [376, 1304], [270, 1304]]}, '-.5-1086x1536.jpg': {'คัดจากสมุดทะเบียนผู้ถือหุ้น เมื่อวันที่': [[52, 168], [278, 168], [278, 196], [52, 196]], 'ชื่อผู้ถือหุ้น': [[206, 262], [274, 262], [274, 288], [206, 288]], 'ลงวันที่': [[772, 296], [818, 296], [818, 320], [772, 320]]}}\n"
     ]
    }
   ],
   "source": [
    "import csv\n",
    "\n",
    "signatureFiles = {}\n",
    "with open(\"signature_files_coords.csv\", \"r\", encoding=\"UTF-8\") as file:\n",
    "\treader = csv.DictReader(file, fieldnames= [\"filename\", \"results\"])\n",
    "\tfor row in reader:\n",
    "\t\t# Csv reader will return it as a string - conv the results back, to dict\n",
    "\t\tconvBack = None\n",
    "\t\texec(f\"convBack = {row[\"results\"]}\", locals())\n",
    "\t\tsignatureFiles[row[\"filename\"]] = convBack\n",
    "\n",
    "print(signatureFiles)"
   ]
  },
  {
   "cell_type": "code",
   "execution_count": 9,
   "metadata": {},
   "outputs": [
    {
     "name": "stdout",
     "output_type": "stream",
     "text": [
      "{'--1086x1536.jpg': [([560, 1360], [678, 1390]), ([194, 1242], [314, 1274])], '-.1-1086x1536.jpg': [([139, 223], [318, 256]), ([590, 268], [700, 294]), ([294, 518], [420, 549]), ([468, 1330], [512, 1356]), ([468, 1390], [512, 1416]), ([468, 1450], [506, 1476])], '-.2-2-1086x1536.jpg': [([431, 61], [699, 99]), ([509, 574], [610, 603]), ([278, 1315], [385, 1351]), ([556, 1448], [662, 1476])], '-.3-1-1086x1536.jpg': [([244, 1277], [359, 1313]), ([574, 1412], [688, 1442])], '-.3-2-1086x1536.jpg': [([270, 1276], [376, 1304])], '-.5-1086x1536.jpg': [([52, 168], [278, 196]), ([206, 262], [274, 288]), ([772, 296], [818, 320])]}\n"
     ]
    }
   ],
   "source": [
    "import os\n",
    "import cv2\n",
    "import shutil\n",
    "from dotenv import dotenv_values\n",
    "\n",
    "# Get secrets\n",
    "secrets = dotenv_values(\"./.env\")\n",
    "\n",
    "# Make the directories based on each filename\n",
    "checkDirPath = \"./checker\"\n",
    "\n",
    "imagesDirPath = \"./images\"\n",
    "\n",
    "# Draw on the image using opencv and saving it inside the checks folder\n",
    "# Function to made the images with each result to check with gpt if it's a signature field\n",
    "def makeImgChecks(checkDirPath: str, imageFilename: str, results):\n",
    "\tconfimedSignatureCoords = []\n",
    "\timageFoldername = \"\".join(imageFilename.split(\".\")[:-1])\n",
    "\t# Remove the files in the path if they alr exist\n",
    "\tif os.path.exists(f\"{checkDirPath}/{imageFoldername}\"):\n",
    "\t\tshutil.rmtree(f\"{checkDirPath}/{imageFoldername}\")\n",
    "\t# Make a folder to store all the images to check\n",
    "\tos.mkdir(f\"{checkDirPath}/{imageFoldername}\")\n",
    "\tfor i in range(len(results)):\n",
    "\t\timage = cv2.imread(f\"{imagesDirPath}/{imageFilename}\")\n",
    "\t\ttext = list(results.keys())[i]\n",
    "\t\tcoord1 = results[text][0]\n",
    "\t\tcoord2 = results[text][2]\n",
    "\t\t# Draw the border rectange at the coordinates given by the OCR text\n",
    "\t\timage = cv2.rectangle(image, (coord1[0] - 100, coord1[1]), (coord2[0] + 100, coord2[1] + 50), (0, 255, 0), 2)\n",
    "\t\tcheckingPath = f\"{checkDirPath}/{imageFoldername}/{i}_{imageFilename}\"\n",
    "\t\tcv2.imwrite(checkingPath, image)\n",
    "\t\t\n",
    "\t\t# Send into GPT for confirmation\n",
    "\t\tprompt = [{\"role\":\"system\", \"content\": \"You are an image checker who will confirm whether or not the blue rectangular box in the document is showing is a signature field or not. A field to enter your name normally or anything that does not require a signature is NOT a signature field.  The signature field can be in any language but will usually be Thai or Enligsh. You will return the result of that detection strictly as a boolean value which will either confirm that the green rectangualr box in the image is part of a signature field or not. You output should ONLY be either 'true' or 'false' and shouldn't have anything else inside it. \"}]\n",
    "\t\tif bool(imgSignatureFieldCheck(checkingPath, False, secrets=secrets, prompt = prompt)):\n",
    "\t\t\tconfimedSignatureCoords.append((coord1, coord2))\n",
    "\t\t\t\t\t \n",
    "\treturn confimedSignatureCoords\n",
    "\t\t\n",
    "\t\t\n",
    "\n",
    "# Run the function to create boxes around the possible signature fields for checking and save it to device\n",
    "confirmedFiles = {}\n",
    "for file in signatureFiles:\n",
    "\tconfirmedFiles[file] = makeImgChecks(checkDirPath, file, signatureFiles[file])\n",
    "\n",
    "print(confirmedFiles)"
   ]
  },
  {
   "cell_type": "markdown",
   "metadata": {},
   "source": [
    "# Step 8: Combine all the confirmed coordinates of image and compile them into one single image"
   ]
  },
  {
   "cell_type": "code",
   "execution_count": 11,
   "metadata": {},
   "outputs": [],
   "source": [
    "import cv2\n",
    "\n",
    "finalDirPath = \"./final\"\n",
    "\n",
    "def combineFinalImage(destinationDirPath: str, originalImagePath: str, signatureCoords: list):\n",
    "    image = cv2.imread(filename=originalImagePath)\n",
    "    # Make the rectangles in the image\n",
    "    for coord in signatureCoords: \n",
    "        image = cv2.rectangle(image, coord[0], coord[1], color=(255, 0, 0), thickness=5)\n",
    "    cv2.imwrite(f\"{destinationDirPath}/{originalImagePath.split(\"/\")[-1]}\", image)\n",
    "\n",
    "for file in confirmedFiles:\n",
    "    combineFinalImage(finalDirPath, f\"./images/{file}\", confirmedFiles[file])"
   ]
  }
 ],
 "metadata": {
  "kernelspec": {
   "display_name": "Python 3",
   "language": "python",
   "name": "python3"
  },
  "language_info": {
   "codemirror_mode": {
    "name": "ipython",
    "version": 3
   },
   "file_extension": ".py",
   "mimetype": "text/x-python",
   "name": "python",
   "nbconvert_exporter": "python",
   "pygments_lexer": "ipython3",
   "version": "3.12.4"
  }
 },
 "nbformat": 4,
 "nbformat_minor": 2
}
