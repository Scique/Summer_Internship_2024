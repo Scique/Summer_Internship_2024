{
 "cells": [
  {
   "cell_type": "markdown",
   "metadata": {},
   "source": [
    "# Job match application\n",
    "\n",
    "Steps layout:\n",
    "\n",
    "1. Turn the csv database into a python array with each job being a dictionary with the keys being the column values\n",
    "2. Get a resume - convert from pdf python readable text using the pypdf module (to implement later)\n",
    "   Next steps will be dependent on the type of feature\n",
    "\n",
    "Add_job:\n",
    "\n",
    "1. Use python csv module and just write another row of the job the user provided\n",
    "\n",
    "- Do this on actual app - no need to do on notebook since easy\n",
    "\n",
    "Search_job:\n",
    "\n",
    "1. Have GPT list the job ids with the closest similarities to the resume text inputted\n",
    "2. OTHER OPTION: Make the data into a vector database and get the ones with the closest cosine similarity\n",
    "\n",
    "Scoring_job:\n",
    "Get education_score, experience_score, skill_score\n",
    "\n",
    "1. Feed resume into GPT and prompt engineer to give these scores back\n"
   ]
  },
  {
   "cell_type": "markdown",
   "metadata": {},
   "source": [
    "# Unpack the csv file and print it out in a more python understadable format\n"
   ]
  },
  {
   "cell_type": "code",
   "execution_count": 9,
   "metadata": {},
   "outputs": [
    {
     "name": "stdout",
     "output_type": "stream",
     "text": [
      "{'610cdc6f-4dcc-4be8-a629-be16d774d74f': {'Title': 'Project Coordinator (Digital Platform Project)', 'Description': 'What we want? \\n· Coordinate project management activities, resources and information. \\n· Meeting with different teams. \\n· Monitor project progress and report project status. \\n· Create and maintain project documentation, plan and reports. \\n· Generate MOM and daily performance report. \\n· Provide advice, assistance and follow-up on company policies, procedures and documentation. \\n· Work on Site.\\n\\n\\nWho are we looking for? \\n·At least 1 - 2 years of experience supporting IT projects and experience in project management will be advantage. \\n· Excellent communication, interpersonal and negotiation skills. \\n· Excellent planning and organization ability. \\n· Excellent self-learning, motivating and problem solving. \\n· Team working and able to work under pressure with very good negotiation. \\n· Excellent command of English.'}, 'c4e20c45-d9b7-4ce7-9f70-3eb1816a0c03': {'Title': 'Social Media Planner (Internship)', 'Description': \"About Us\\n\\nCorporate Communication and Branding, a team made up of people exhibiting many different skill-sets all working towards a common goal: to improve MFEC brand and the ways that people perceive it. We are in charge of seizing new opportunities in this VUCA world by working as a connector between many stakeholders. We work on the same page to make things possible and create a current of waves that impact others.\\n\\nWhat you'll work on:\\n· Develop and execute engaging content creation, such as contributing content ideas + copywriting, across various platforms (including but not limited to, Instagram, Instagram stories, TikTok, Facebook, and Youtube)\\n· Work closely with Creative to plan out social content for the upcoming weeks\\n· Stay up to date on trending audios and memes to create on-the-fly content that our audience will love\\n\\nWho you are:\\n· Ability to work well in a team environment\\n· Social media is your life, you're always up on the newest trends and creators\\n· An email wizard and strong writer - you've got the whole professional-but-not-stuffy thing down\\n· You LOVE creating video content\\n· Able to manage multiple projects at once and stay connected with the team\\n· Able to analyze problems and create a solution\\n· A desire to gain experience in a professional Tech environment.\\n\\nWhat you should know before applying!\\n· You are able to work in an office, MFEC is currently a hybrid work environment but our team needs to work onsite 5 days per week for powerful collaboration with both inside and outside team\\n· You have strong organizational skills\\n· You have collaborative spirit, results driven by the ability to manage multiple priorities and work against deadlines\\n· You demonstrated creative thinker\\n· You must be pro-active, and able to operate effectively both independently and within a team\\n· You must have excellent written, verbal communication, and exceptional interpersonal skills\"}, '0fcccb68-3c78-41c3-bdcb-04b2d77c4466': {'Title': 'Software Engineer (IT Infrastructure)', 'Description': \"Our Team\\nWe are a new team working in dynamic work environment of IT Operation and explore new automation technologies. This job combines software engineering and operations expertise to design, build, and maintain highly available and performant systems in IT Operation\\n\\nWhat we want?\\n- Create and maintain automation tools and infrastructure to streamline operations and improve efficiency.\\n- Develop scripts, tools, and monitoring systems to automate repetitive tasks.\\n- Manage the infrastructure and configuration of systems.\\nIncident response and on-call support to address system failures and service disruptions. Perform root cause analysis to identify the underlying causes of incidents and implement preventive measures to avoid similar issues in the future.\\n- Install, configure, and maintain Linux-based systems and servers.\\n- Perform regular system maintenance tasks such as applying updates, patches, and security configurations.\\n\\nWho are looking for?\\n- 0-10 years work experience on Operating system Linux Servers (*New graduates are welcome for junior positions)\\n- Bachelor’s degree in Computer Engineering or Computer Science and/or Master's degree business or Computer science\\n- Experience as a Linux Administrator or in a similar role.\\n- Highly competent at least one or two programming languages such as C#, .Net, C++, Java, NodeJS, Python, PHP, Ladder (PLC), etc.\\n- Knowledgeable in modern enterprise software architectures for large scale deployment.\\n- Eager to learn new technologies and to apply it to real use.\\n- Analytical and creative in problem solving\\n- Knowledge in AI and the ability to use AI-related tools and technologies\\n\"}, 'a38698d9-cf78-4cf4-9e4e-80846e3cab32': {'Title': 'Database Administrator ', 'Description': 'Job Highlights\\n- Competitive salary with high benefits\\n- MS SQL, Microsoft SQL, Oracle\\n- Fresh Graduate are welcome\\n\\nWe are looking for a Database Administrator, you will be responsible for implement database software and related software with high quality service. And proactive maintenance database for each customer site and create proactive report. And also support for incident for each database that under the supervision of MFEC.\\n\\nWhat we want?\\n- Install, configure, upgrade and migrate the database server on On-premise and Cloud solution.\\n- Design and implement high availability and disaster recovery feature of database server.\\n- Design backup and recovery database process.\\n- Monitor database performance, identify problem and system performance tuning of database server.\\n- Develop SQL script, schema design, code review and SQL query tuning.\\n- Control access permission, privilege and security.\\n- Be available for on-call, e-mail support as needed.\\n\\nWho are we looking for? \\n- Bachelor’s Degree in Computer Science, Computer Engineer or related fields.\\n- 0 – 2 years of experience (Fresh Graduate are welcome).\\n- Knowledge in RDBMS Product or SQL language will be advantage.\\n- Experience in MS SQL, Oracle.\\n- Experience in UNIX and Windows operating system.\\n- Able to work overtime at customer sites.\\n- Able to work effectively both as part of a team.\\n- Positive attitude.\\n- Self-study from text document and able to adapt.\\n- Good personal skill for reading and speaking English.\\n- Knowledge in AI and ability to use AI-related tools and technologies.\\n\\nMFEC OKR:- As MFEC People, you will be a part of our talent team. Besides your  main responsibilities, you do have special projects as part of OKR. However, the percentages will be different according to the positions and teams. '}, '2e362f98-1982-4e0a-9cea-a6b305f2bba6': {'Title': 'System Engineer Internship', 'Description': 'Learning basic infrastructure concepts on enterprise company\\nImplement and Preventive Maintenance on Infrastructure\\n- Virtualization Concept\\n- Modernization Infra & Application\\n- Windows and Linux server\\n- Enterprise Storage\\n- Backup Solution\\nPreventive Maintenance Infrastructure'}, '3d5dcbbe-1c93-4d42-95fa-b664c6288a7c': {'Title': 'Business Development Internship', 'Description': '- วิเคราะห์ธุรกิจ\\n- ทำ Excel เป็น (อย่างน้อยถึง vlookup)\\n- market research\\n- business analysis\\n- content creation\\n- data analysis (ability to use excel: simple functions/ pivot table\\n\\njob qualification :\\n- มีความรู้ด้าน AI และสามารถใช้เครื่องมือและเทคโนโลยีที่เกี่ยวข้องกับ AI ได้\\n'}, '3cf4c8f6-b785-4e2e-952f-a9c7e09a4796': {'Title': 'Video Editor Internship', 'Description': '- ผลิตสื่อมัลติมีเดียสำหรับใช้ภายในและภายนอกองค์กร\\n- มีทักษะการจับใจความและสื่อสารเรื่องราวผ่านวีดิโอได้อย่างครบถ้วนถูกต้อง\\n- สามารถเขียนสคริปและวาง Story Board\\n- สามารถถ่ายภาพและวีดิโอ\\n- สามารถใช้โปรแกรมตัดต่อวีดิโอได้ดี\\n- สามารถทำ Motion Graphic ได้ดี\\n\\nJob Qualification :\\n- กำลังศึกษาอยู่ในระดับปริญญาตรีในสาขาที่เกี่ยวข้อง\\n- มีระยะฝึกงาน 4 เดือนขึ้นไป\\n- มีความรู้ด้าน AI และสามารถใช้เครื่องมือและเทคโนโลยีที่เกี่ยวข้องกับ AI ได้'}, 'e497b8c8-a1bd-4a4c-8f55-368bfb16628d': {'Title': 'IT Support Officer', 'Description': 'Job Highlight  \\n- Open for New Graduation\\n- Installing and configuring computer and network\\n- Good communication & collaboration\\n\\nWe are looking for new members of IT Support to monitors and  maintains the company computer systems, installs and configures hardware and software, and solves technical problems.\\n\\nWhat we want?\\n- Installing and configuring computer hardware, software, systems, networks, printers and scanners.\\n- Monitoring and maintaining computer systems and networks.\\n- Responding in a timely manner to service issues and requests.\\n- Providing technical support across the company (this may be in person or over the phone)\\n- Setting up accounts for new users.\\n- Repairing and replacing equipment as necessary.\\n- Testing new technology.\\n- Other assign by Team Leader.\\n\\nWho are we looking for?\\n- Bachelor degree in Computer Engineering, Computer Science, Information Technology or related field\\n- New graduated are welcome, Having experience is a plus\\n- Having System skills (Windows, Linux, Server) and Network skills (CISCO router, switch, firewall)\\n- Knowledge of cyber security \\n- Positive thinking\\n- Good communication & collaboration\\n'}, '1e3a691e-3d20-496f-ac60-cba9d0f3bd7b': {'Title': 'Content Creative and Comunity Internship', 'Description': '- ช่วย Support งาน Event Marketing\\n- ช่วยเขียน Content บน Fan Page\\n- ช่วย Support activity สำหรับ Employee Engagement\\n\\nJob Qualification :\\n- กำลังศึกษาอยู่ในระดับปริญญาตรีในสาขาที่เกี่ยวข้อง\\n- มีระยะฝึกงานตั้งแต่ 4 เดือนขึ้นไป\\n- มีความรู้ด้าน AI และสามารถใช้เครื่องมือและเทคโนโลยีที่เกี่ยวข้องกับ AI ได้\\n'}, 'e9b6cf10-012a-40ab-b692-51c7bbcd1b28': {'Title': 'Application Deployment Officer', 'Description': 'Job Highlights\\n- Day-to-day application deployment support.\\n- IT Infrastructure Knowledge.\\n- Shell script, Java, Openshift & Jenkins \\n\\nYou will responsible to support day to day application change management activities, including branch maintenance, code merging, deployment package build and configuration changes.\\n\\nWhat we want?\\n- Maintain a source code repository and manages key information such as version number, build and deployment procedures, dependencies, and notification lists.\\n- Manage and maintain the enterprise Deployment Schedule, across Production and UAT, Mock-Run environments, by partnering with IT application and infrastructure teams. (including internal resources and 3rd party service providers)\\n- Conduct application deployment readiness stage-gate reviews, deployment de-conflict session and post-mortems, with the goal of helping manage risk and resolving issues that affect deployment scope, schedule, and quality.\\n- Manage incoming demand from project team & IT functional teams with respect to Application Deployments. Partner to create staffing plans (core/flex model ramp up and ramp down). Serve as the primary contact for Application Development team members & IT Infrastructure teams to related service provider.\\n- Identify opportunities to streamline and/or automate Application Deployment related activities.\\n- Responsible for updating and maintaining Deployment Management policy and procedures, including alignment with other IT policies / processes including PM / SDLC Framework, Change Management, etc.\\n\\nWho are we looking for?\\n- 1-2 years of experience with Windows Server, UNIX, Virtualization Technology, VMware.\\n- Having knowledge and skill of Windows and UNIX command line.\\n- Having knowledge of Java, Openshift, Jenkins and application will be advantage.\\n- Basic knowledge of IT Infrastructure.\\n- Able to use Shell script.\\n- Having a certification is a plus.\\n- Knowledge in AI and the ability to use AI-related tools and technologies\\n\\nMFEC OKR:- As MFEC People, you will be a part of our talent team. Besides your main responsibilities, you do have special projects as part of OKR. However, the percentages will be different according to the positions and teams.\\n'}, '7a031626-684e-4844-bec4-1a9f085bd0b9': {'Title': 'Software Engineer (Middleware)', 'Description': 'Job Highlights\\nSoftware Engineer (Middleware)\\n-Enjoy to Design/Build/Maintain a platform\\n-Friend with Linux system and Open-source tools\\n-Love to learn new technology and always challenge yourself\\n-Enjoy to Automate Everything\\n\\nJob Descriptions:\\nWe are looking for Software Engineer to work as a team with passion in Software Engineer environment. To transfer value to the customer.\\n\\nWhat we want?\\n-As a Software Engineer, you will be responsible for Implementing, Administrate, supporting and consulting clients and customers while ensuring customer requirement and satisfaction. \\n-Implement, Administrate and Supports product related Middleware, Container, Messaging or Streaming technology.\\n-Be a part of project team to deliver item on milestone in project.\\n-Design and Planning implementation/development plan for customer.\\n-Demonstrated software technical and function on premise and cloud-based.\\n-Also control and manage customer requirement and satisfaction. \\n-Acquire new technology skill including soft skill. Implement, Develop and deliver high quality standard services and presentations.\\n\\nWho are we looking for? \\n-New graduates are welcome.\\n-Bachelor or Master of Computer Science/Computer Engineer/Information Technology or related.\\n-Experience with Linux command and shell script.\\n-Familiarity with Middleware, WebSphere, JBoss, WebLogic, Tomcat, Apache an advantage.\\n-Familiarity with Message Queue, MQ, Kafka an advantage.\\n-Familiarity with Virtualization, Vmware, Virtualbox an advantage.\\n-Familiarity with Containers technology, Docker, Kubernetes, OpenShift an advantage.\\n-Familiarity with Cloud, Public/Private/Hybrid Cloud, AWS, Azure, IBM, Oracle an advantage.\\n-Knowledge in AI and ability to use AI-related tools and technologies.'}, '5572426a-ed2f-4766-bf9a-7deeedafbaa1': {'Title': 'Presale Consultant', 'Description': 'Job Highlights\\n- Technical Consult\\n- Tech Savvy\\n- Database Technologies\\n\\nJob Description\\nWe are looking for Presale Consultant to be a part of team, collaborate with internal team to leverage excellence performance.\\n\\nWhat we want?\\n- Hands On experience with relational database, No-SQL database technologies and experience with Oracle/Oracle Cloud technology an advantage.\\n- Current or previous Sales Consulting/Presales experience an advantage.\\n- Demonstrable ability to engage at all levels within a customer.\\n- Able to combine business value and technical knowledge to position solutions to customers.\\n- Enthusiastic about the opportunities for the Database & Middleware Technologies and keen to be seen as an evangelist.\\n- Understand the Technology of Oracle Database and options (RAC,Partition, Dataguard, Security, Compression,Exadata) an advantage.\\n- Understand the Technology landscape including Hardware, Applications & Services.\\n- Able to work effectively both as part of a team and leading individual engagements.\\n- Able to learn quickly and strongly self-motivated.\\n\\nWho are we looking for? \\n- 3 years relevant computer applications or database/tools.\\n- Demonstrated proficiency in one multi-user operating system.\\n- Through knowledge of system and application design. intermediate verbal and written communication skills: needs analysis, positioning, business justification, closing techniques.\\n- Demonstrated ability to solve complex technical problems with accounts in complex technical environments.\\n- Ability to travel as needed. BS degree or equivalent; advanced degree desirable.\\n- Knowledge in AI and the ability to use AI-related tools and technologies\\n\\nMFEC OKR:- As MFEC People, you will be a part of our talent team. Besides your main responsibilities, you do have special projects as part of OKR. However, the percentages will be different according to the positions and teams. '}, '4e2fb61f-93a9-4d9e-a01c-eee841cac316': {'Title': 'Product Operation Engineer', 'Description': 'What we want?\\nProduct Operation take responsibility as below;\\n· Create ticket number and classify severity to ensure the problem can determine and resolve as agreement\\n· Follow procedure and instruction for troubleshooting to provide solution and fix the case\\n· Escalate case to higher tier when the case has complexity to determine and troubleshoot.\\n· Create and maintain operational manual and report\\n· For repeated cases, operation team prepares report to incident manager and operation manager for register in problem management process\\n· Define tasks and their dependency about operation /administration task e.g. housekeeping process, user and privilege, backup, data replicate to DR, data archiving and purging\\n· Support project team member which relates to data platform software and integration issues\\n· Post sale support to customer after system go live\\n\\n\\n\\nWho we are looking for?\\n· Bachelor’s degree or higher in Computer Engineering or Computer Science, Mathematics, Statistics or IT related fields\\n· Passion and enthusiastic\\n· Positive thinking\\n· Good communication and presentation skill\\n· Good communication and written in English\\n· Good in Linux command skill\\n· Have knowledge and concept about Big Data, Data Lake and Data Warehouse\\n· Have knowledge and concept about Hadoop and Ecosystem (i.g. Hadoop, Hive, Impala, NiFi, Ranger, YARN)\\n· Have knowledge about Windows server or Linux server\\n· Have knowledge about Cloudera software, Informatica software and TIBCO software is a plus.\\n· Have knowledge about system infrastructure skill is a plus.\\n· New graduates are also welcome.'}, '445f6122-4f93-437d-b554-15172f8bd98e': {'Title': 'Technical Consultant (Infra & BigData)', 'Description': 'What we want?\\n- Perform analysis and design high-level solution to meet user requirements.\\n- Coordinate with software vendors to update new technologies.\\n- Work with Account Sale to propose solutions with align with account strategy.\\n- Understanding customer’s needs.\\n- Preparing and delivering and delivering customer presentation and demonstrations of the software, hardware articulately and confidently.\\n- Delivering proof-of-concept implementations using customer data, data models, and functional use cases.\\n\\nWho are we looking for?\\n- Excellence in communication skills with both Thai and English languages\\n- Excellence in explanation technical information to non-techies\\n- Have a passion for the newest technology\\n- Strong problem-solving and analytical skills\\n- Good teamwork and discipline\\n- Good service mind and communication\\n- Knowledge in AI and the ability to use AI-related tools and technologies\\n'}, 'bae0b7f7-5d08-46a1-ad8a-5c0dae2e59ac': {'Title': 'Accounting Internship', 'Description': 'Responsibilities:\\n- Assist with accounts payable and accounts receivable tasks\\n- Organize and file accounting documents\\n- Other duties as assigned\\n\\nQualifications:\\n- Proficient in MS Word and Excel\\n- Strong attention to detail\\n- Good communication skills\\n- Knowledge in AI and the ability to use AI-related tools and technologies'}, '186ae342-3e59-484a-8db3-b0a28e1c554a': {'Title': 'IoT and Smart Solution Internship', 'Description': '- มีความสนใจทางด้าน IoT hardware และ smart technology ใหม่ๆ\\n- มีความสร้างสรรค์ในด้าน solution ใหม่ๆ ที่ตอบโจทย์การใช้ชีวิตในอนาคต\\n- สามารถออกแบบ, ทดลอง กับ hardware และ software platform ใหม่ๆ ได้\\n- รักการเรียนรู้อยู่ตลอดเวลา\\n- สามารถติดต่อสื่อสาร เรียนรู้ในทีมงานได้'}, '4061bdb0-af13-4f3b-b8fb-f8306e33f130': {'Title': 'Finance Officer Internship', 'Description': '- คีย์ข้อมูล LG ในระบบ MPM\\n- จัดเก็บเอกสารต่างๆ ของ Team Finance\\n- งานอื่น ๆ ตามที่ได้รับมอบหมาย\\n\\nJob Qualification :\\n- มีความรู้ด้าน AI และสามารถใช้เครื่องมือและเทคโนโลยีที่เกี่ยวข้องกับ AI ได้\\n**ระยะฝึกงาน 4 เดือนขึ้นไป'}, '84705cdc-187b-4f03-a45d-4fe277a8fd41': {'Title': 'Technical Consultant (Presales) - Data Solutions', 'Description': '- Responsible for Data Management product support team which included ETL, Database, Data Warehouse, Big Data, Data Platform, and Data Analytics.\\n- Responsibilities include assessing customer requirements, translating them into a vision with a specific outcome that the customer can understand, and defining the technical elements that make up the solution presented.\\n- Responsible for providing technical/functional support to prospective clients and existing customers.\\n- Present and articulate Data Management product’s strengths, features, benefits, and competitive advantages\\n- Responding to RFP/RFI (Request for proposal/information).\\n- In close cooperation with the Sales Team, play a major role in answering technical solutions, RFI/RFP proposals.\\n- Coordinate with related persons such as Sale, Project Manager, Vendor, Implementation team and etc. to complete efficient solution and proposal to present to prospects.\\n- Co-ordinate with post-sales support team to architect and propose the right solution.\\n \\nExperiences:\\n- 3 years of technical sales support, Pre-sale or related experience working customer-facing\\n- Experience and an understanding of IT technologies that relate to Data Management products (Database, ETL, Data Warehouse, Big Data, Data Platform, and Data Analytics\\n'}, 'e6de0fa5-fb07-4fbd-96e2-91b06991c1d7': {'Title': 'System Engineer', 'Description': 'We’re looking for a young talented Systems Engineer who has the necessary experience to build out our infrastructure solutions and troubleshoot problems of our large enterprise customers.\\n\\nRole & Responsibility\\n- Implement and integration focused solutions of customer IT infrastructure.\\n- Provide technical support, troubleshooting and maintenance services.\\n- Introduce new technology and solutions to improve work process.\\n- Work with support team to resolve technical issues.\\n\\nWho are we looking for?\\n- 0-4 Years experience with Operating System (Linux, Windows), VMware, Server, Storage, Virtualization, Kubernetes and other related.\\n- Good analytical, troubleshooting and problem solving skills.\\n- Self-motivated and work well independently.\\n- Strong service mind with excellent communication and presentation skills.\\n- Flexible and easily adaptable Good command of spoken and written English\\n- Python and Golang will be an advantage'}, 'fd45c26a-cc37-490c-a6a6-1a32d5cc8f60': {'Title': 'Content Marketing Intern', 'Description': \"- Deliver and brief the content to get the points and coordinate with the graphic designer.\\n- Support and plan how to launch the content, insert the keyword which is matched to the target.\\n- Do the report and analysis the content. \\n- Creative the fresh idea to the team.\\n\\nJob Qualification :\\n- Currently a student in Bachelor's Degree in related field\\n- Good communication and interpersonal skills\\n- Problem-solving/Creativity\\n- Minimum of 4 months working as internship\\n- Able to work at 5 days/week during internship period\\n- Knowledge in AI and the ability to use AI-related tools and technologies\"}, '03e4de8c-be4e-4db1-a44d-0077c0f4433b': {'Title': 'Full Stack Developer Intern', 'Description': '- Good programming skills using Java, JavaScript, jQuery, Node.js, Vue.js, React.js, Swift, Kotlin, C++, HTML5 and CSS.\\n- Knowledge of back-end development and APIs\\n- Works well with documented processes\\n- Good knowledge of software architecture and design patterns\\n- Knowledge of developing and implementing Restful APIs on the web with Java, Spring Framework and ecosystems.\\n- Knowledge of Git and Docker'}, '0bfbb59a-b5b2-41c8-876e-e15ae3be1fbe': {'Title': 'Innovation Consultant', 'Description': 'Job Description\\n- Technology Verification\\n- Product Verification\\n- Supports the salesforce and leads the technical aspect of the selling process including the developing and conducting of professional product presentations and demonstrations to generate sales and meet revenue objectives\\n- Builds trusted relationships with sales teams and client accounts\\n- Actively research and maintain a thorough understanding of our own products and competitor strengths and weaknesses\\n- Up to date with technology, product and IT industry\\n- Special Assignment\\n \\nQualification\\n- Bachelor’s degree or Higher in Computer Science, IT or Related Field\\n- 10 Years of Working Experience in IT Industry\\n- Strong knowledge of scoping requirements\\n- Ability to translate customer business objectives into scoping requirements\\n- Growth Mindset\\n- Positive Thinking\\n- Self Learning\\n- Analytical Thinking\\n- Problem Solving\\n- Negotiation\\n- Efficience Communication\\n- Work with Passion'}, 'ec33927d-8cff-41b5-99fe-f20f279759ce': {'Title': 'Software Developer Internship', 'Description': '-Javascript, SQL เพื่อ Query from database\\n-Internal app dev\\n-Self learning\\n-NVA ระบบการใช้งานภายในของ MFEC'}, '04d24eae-c4f9-4bc3-8933-2686ec09dcd5': {'Title': 'Graphic Designer Internship', 'Description': \"About Us\\nCorporate Communication and Branding, a team made up of people exhibiting many different skill-sets all working towards a common goal: to improve MFEC brand and the ways that people perceive it. We are in charge of seizing new opportunities in this VUCA world by working as a connector between many stakeholders. We work on the same page to make things possible and create a current of waves that impact others.\\n\\nWhat you'll work on:\\n- Design clear and engaging creative concepts for social, print and email\\n- Layout and design of various projects including event invites, blog graphics, banner ads, marketing material, and social media posts.\\n- Work closely with Senior Graphic Designers to execute graphics needed for various marketing campaigns\\n- Layout and design of various projects including event invites, blog graphics, banner ads, marketing material, and social media posts.\\n\\nWho you are:\\n- Ability to work well in a team environment\\n- Ability to manage multiple initiatives simultaneously while collaborating with several teams\\n- Excellent communicator and creative problem solver\\n- Motivated and driven with a strong work ethic\\n- Passion for design and lifestyle\\n- A desire to gain experience in a professional Tech environment.\\n- Knowledge in AI and the ability to use AI-related tools and technologies\"}, 'bdb1fc2d-dcad-47c2-9519-94824990e9a2': {'Title': 'System Internship', 'Description': '- Install/Configure Application\\n- Good knowledge in Linux Configuration, Docker, Computer Security'}, '8ab1f5d2-d920-4dc8-9ef0-8681b7884a3f': {'Title': 'Software Engineer', 'Description': 'MFEC always looking for people with diverse range of talents and skills to join our professional teamwork. Be part of our organization and you can collaborate with innovative and enthusiastic minds while moving forwards with opportunities and success in your career.\\n\\n \\nJob Description\\n-Developing, configuring, and customizing the ServiceNow platform to fit business requirements\\n-Collaborating with cross-functional teams to identify and prioritize business requirements\\n-Code reviews and quality control checks should be undertaken as part of every project to guarantee maximum efficiency and productivity\\n-Debugging and fixing technical problems\\n-Producing and running test cases to guarantee software quality\\n-Documenting code and application functionality\\n\\nSkill\\n-Expertise in web development (HTML, CSS, JavaScript)\\n-Proven ability to set up Business Rules, Client Scripts, sophisticated UI Policies, Flow Designer, ACLs, Script Includes, and UI Scripts to meet needs\\n-Expertise with REST/SOAP APIs to integrate with other IT systems\\n-Strong communication and collaboration skills, including the ability to gather requirements from internal and external stakeholders\\n-Strong analysis, problem-solving, and decision-making skills'}, '434ec3af-360e-45a4-8092-e8f6ce60626b': {'Title': 'IT Operations Specialist Internship', 'Description': '- Troubleshoot all hardware\\n- Software and Network connection (LAN, Wireless LAN)\\n- Printer Problems and undertake\\n- Repair and fix where possible\\n- Keep monitoring all hardware and software to ensure all services\\n- Analyze rising problems form user and find solutions\\n- Perform hardware and software installation\\n- Management team\\n- Other assign by Manage\\n\\nJob Qualification :\\n- Currently a student in Bachelor&apos;s Degree in related field\\n- Good communication and interpersonal skills\\n- Able to work at 5 days/week during internship period\\n- Knowledge in AI and the ability to use AI-related tools and technologies\\n'}, '34d6e031-419c-4042-818b-114b01929760': {'Title': 'Graphic Design ', 'Description': 'What We want? \\n\\n- Collaborate with product managers, developers, and other designers to create intuitive and visually appealing interfaces for web and mobile applications.\\n- Conduct user research to understand user needs, goals, and behaviors.\\n- Create wireframes, prototypes, and user flows to communicate design concepts and test usability.\\n- Design visual elements such as icons, typography, color schemes, and layouts.\\n- Work with developers to ensure the design is implemented correctly and to resolve any design-related issues.\\n- Continuously iterate and refine designs based on user feedback and testing results.\\n- Stay up-to-date with the latest design trends and best practices in UI/UX design.\\n- Contribute to the development of the design system and style guide to ensure consistency across products.\\n- Manage and prioritize multiple projects to meet deadlines and deliver high-quality designs.\\n\\nWho are looking for?\\n- Minimum of 3 years of experience in UI/UX design or a similar field.\\n- Proficient in Adobe Creative Suite and other design software.\\n- Strong understanding of typography, color theory, layout, and design principles.\\n- Experience with user research, wireframing, prototyping, and user testing.\\n- Excellent communication, problem-solving, and collaboration skills.\\n- Ability to work on multiple projects simultaneously and meet deadlines.'}, 'b39db427-3a6e-42e3-bfb6-9f8b83937c1e': {'Title': 'DevSecOps Administrator (Onsite)', 'Description': 'Job Highlights\\n- DevSecOps Operational Services\\n- Policy & Compliance\\n- Development Cycle\\n\\nWe are looking for an experienced DevOps Administrator or young talent who is passionate about software development and IT operations.\\n- Provided DevSecOps Operational Services to customer based on agreed Scope of Works\\n- Provided first tier support for incident response and problem management\\n- Coordinate with customer, internal team and external vendors for incident response and problem management\\n- Provide Summary Report, Technical Explanation and other related document based on agreed Scope of Works\\n\\nWhat we want?\\n- Must be able to work with customer policy and compliance\\n- Must be able to understand agreed Scope of Works between team and customer\\n- Must be able to communicate customer, internal team and external vendors for incident response, ticketing case & incident closure\\n- Service-oriented mindset and able to work under pressure\\n\\nWho are we looking for?\\n- Opening for new graduation.\\n- Linux/UNIX OS Basic Understanding and Configured Skills.\\n- Linux/UNIX OS Scripting Skills.\\n- Docker and Container Basic Understanding and Configured Skills.\\n- Basic English Communication Skills are surplus.\\n- Kubernetes Basic Understanding and Configured Skills are surplus.\\n- DevOps/DevSecOps CI/CD Pipeline Basic Understanding are surplus.\\n- Source Code Management (SCM) Basic Understanding are surplus.\\n- Systematic and analytical thinking\\n\\nMFEC OKR:  As MFEC People, you will be a part of our talent team. Besides your main responsibilities, you do have special projects as part of OKR. However, the percentages will be different according to the positions and teams.'}, '197ff72c-8280-4575-9ba5-1bc59ab80cd6': {'Title': 'Accounting Officer', 'Description': 'What we want?\\n- Check the accuracy of accounting recognice Revenue & Cost by Project \\n- Check the accuracy of accounting costing records by project in the accounting system. \\n- Check tax invoice, withholding tax, account payable and general vouchers. \\n- Prepare financial reports for Management such as details of Income Statement and other summary reports relevant. \\n- Reconcile accounts and check all reconciliation. 6.Other assignments.\\n- Others job as assigned by supervisor\\n\\nWho are looking for?\\n- Have experience at least 2-5 years in Finance and Accountant\\n- Preferably in Microsoft Office, especially in MS Excel such as VLOOKUP, Pivot\\n- Knowledge in tax and compliance is a plus\\n- Experience to working with startup company will be advantage\\n- Can start working immediately will be advantage (If any)'}, 'ac7ec50d-7178-4995-8453-524b68167f15': {'Title': 'Network Engineer Internship', 'Description': \" Responsibilities:\\n\\nAssist in the design, implementation, and maintenance of network infrastructure, including routers, switches, firewalls, and wireless access points.\\nSupport the installation and configuration of networking equipment and software, ensuring compatibility and adherence to industry standards.\\nParticipate in network troubleshooting activities to identify and resolve connectivity issues, performance bottlenecks, and security vulnerabilities.\\nCollaborate with cross-functional teams to gather requirements, design solutions, and implement network enhancements to support business needs.\\nAssist in the deployment and management of network monitoring and management tools to ensure proactive monitoring and alerting of network performance and security incidents.\\nContribute to the documentation of network configurations, processes, and procedures to facilitate knowledge sharing and support continuity of operations.\\nAssist in conducting network assessments and audits to identify areas for improvement and recommend solutions to enhance network reliability and performance.\\nStay informed about emerging technologies, industry trends, and best practices in networking to support continuous learning and professional development.\\nAdhere to security protocols and compliance requirements in all network-related activities to protect sensitive data and ensure regulatory compliance.\\nSupport other IT initiatives and projects as needed, providing technical expertise and assistance to achieve organizational goals.\\nQualifications:\\n\\nCurrently enrolled in a Bachelor's or Master's degree program, preferably in Computer Science, Information Technology, or a related field.\\nStrong interest in networking technologies, protocols, and architectures.\\nBasic understanding of networking concepts, including TCP/IP, DNS, DHCP, VLANs, routing, and switching.\\nFamiliarity with network equipment and technologies, such as Cisco, Juniper, Palo Alto Networks, and Wi-Fi standards.\\nProficiency in network troubleshooting tools and techniques.\\nExcellent problem-solving skills and attention to detail.\\nEffective communication and interpersonal skills, with the ability to collaborate with cross-functional teams.\\nEagerness to learn, adaptability, and a proactive attitude towards personal and professional growth.\\nPrevious internship or coursework experience in networking or related field is preferred but not required.\"}, 'e3d5a8d7-7729-4411-af23-089fd4ac06fc': {'Title': 'IT Project Manager', 'Description': 'What we want?\\n- Manage, control and coordinate project schedule & implementation to make sure the project to be completed on time.\\n- Monitor, track and control outcomes to resolve issues, conflicts, dependencies and critical path deliverable.\\n- Implement and manage change when necessary to meet project output.\\n- Perform risk management to minimize project risks.\\n- Establish, manage and maintain relationship with the stakeholders, business partner and third parties/vendors.\\n- Utilize industry best practices, techniques, and standards throughout entire project execution.\\n- Create and maintain comprehensive project documentation.\\n- Measure project performance to identify areas for improvement.\\n- Perform other related duties as assigned.\\n\\nWho are we looking for?\\n- At least 5 years working experience in IT project management, large scale projects preferred.\\n- Proven working experience in project management.\\n- Understanding of Agile methodology (SCRUM).\\nIn-depth knowledge of project management and sense of ownership.\\n- Excellent organizational and time-management skills.\\n- Ability to communicate effectively, including writing skill both Thai and English\\n- Experience in Banking preferred.\\n-Self-motivated, service-minded, and able to work both independently and under pressure.\\n\\nMFEC OKR:- As MFEC People, you will be a part of our talent team. Besides your main responsibilities, you do have special projects as part of OKR. However, the percentages will be different according to the positions and teams. '}, 'ecb5c77b-2152-456f-8027-a38fe9659ba7': {'Title': 'Helpdesk Engineer', 'Description': 'Job Highlight  \\n- Open for New Graduation\\n- Exposure to banking system & technologies\\n- Good teamwork\\n\\nWe are looking for new members of Helpdesk Engineer to join ITOMS Team to offer the best service in resolving critical server, application and system alert for our large enterprise customers.  \\n\\nWhat we want ?  \\n- Serve as the first point of contact for customers and the engineer assistance over the phone or email.\\n- One-Stop Services for All customer Need is 24/7 365 days a year.\\n- Logs the problems to systems and assign the case to support team.\\n- Direct unresolved issues to the next level of support personnel.\\n- Follow-up the case and update customer status and information.\\n- Pass on any feedback or suggestions by customers to the appropriate internal team.\\n- Generate internal & external ticketing system reports daily, weekly, monthly for BU Team & Customer.\\n\\nWho are we looking for?  \\n- 0-2 years of work experience in IT-related. (Open for New Graduation)\\n- Human relationship and a team player.\\n- Analytical, negotiation and problem-solving skills, service-minded, high responsibility\\n- Assist in administrative work such as coordinate for supplies, organize for transport.\\n- Good communication / interpersonal skills.\\n- Good organizational and administrative skills.\\n- Proficient in Microsoft Office Suite.\\n- Good written and verbal communications skills.\\n- Must be attentive to detail, accurate, and able to prioritize multiple tasks in a high pressure, fast-paced environment.\\n- Customer-oriented and cool-tempered.'}, '1cdc21ea-7842-4078-9180-19481b39b9b2': {'Title': 'Software Tester (Automate test)', 'Description': 'We are looking for an Software Automate Tester to design, manage, and develop automate test script on ServiceNow Platform. The job will coordinate with ServiceNow development team to ensure projects schedule & testing is complete on time.\\n\\nJob  Role:\\n• Design test case and implement system test\\n• Record/analyze test result and provide feedback to development team\\n• Perform reporting the defect to the bug tracking system\\n• Create automate test script by using  ServiceNow automate test tool for Automate test position\\n• Co-ordinate with Developers , SA, and PM to solve software error\\n• Develop project-related documents such as user acceptance test document and user manual\\n• Coordinate and facilitate the User Acceptance Test\\n\\n Qualifications:\\n• Bachelor’s degree in Computer Engineering, Computer Science or related field\\n• Minimum 2 years’ experience in Software Testing\\n• Knowledge of automate and performance testing tool\\n• A proactive, team player with ability to work in dynamic environments\\n• Able to work on site\\n• Experience in Automation Testing (ex. Robot framework/Cypress etc.)  would be an advantage\\n• Good Thai and English communication skills \\n\\nSkill:\\n• Knowledge of automate and performance testing tool\\n• A proactive, team player with ability to work in dynamic environments\\n• Able to work on site\\n• Experience in Automation Testing (ex. Robot framework/Cypress etc.)  would be an advantage\\n• Good Thai and English communication skills '}, '85aea70c-29ee-4a86-b313-2a75dfb69557': {'Title': 'Assistance customer success manager (Streaming Platform and development)', 'Description': \"Preferred Qualifications\\nWe're looking for an experienced related to IT services, applications, project management, or related fields to work in our newly established streaming platform and development team which focus on developing or implementing services for enterprises.\\n\\nWhat we want?\\n•\\tDevelop and execute customized Success Plans based on client-specific needs and pain points.\\n•\\tProactively lead product and solution improvements internally to enhance client satisfaction.\\n•\\tMonitor and track client engagements to ensure client success metrics are met and risks are managed effectively.\\n•\\tAssessing requirements of the project and translates project requirements into project tasks.  \\n•\\tIdentifies and allocates project team resources.  \\n•\\tDevelops detailed project schedules, resource plans, and status reports.  \\n•\\tManage or coordinate with different venders and communicate project milestones.  \\n•\\tTracks key project milestones and adjusts project plans.  \\n•\\tProvide feedback to Product Management, Support, Development and other teams on customer feedback, trends, issues and any item impacting customer satisfaction.\\n•\\tHelp develop new ways to track and follow up on customer satisfaction.\\n\\nWho are we looking for?\\n•\\tBachelor’s degree in information technology, computer science, business management or in a related field.\\n•\\tKnowledge in all aspects of information technology and project management, specifically with complex applications and services.  \\n•\\tKnowledge in application streaming platform and developing, web developing or programming. (Kafka, Confluent, Data pipeline, MQ, etc.)\\n•\\tExcellent communication, interpersonal and negotiation skills.  \\n•\\tExcellent planning and organization ability.  \\n•\\tExcellent self-learning, motivating and problem solving.  \\n•\\tTeam working and able to work under pressure with very good negotiation.  \\n•\\tGood command of English. \\n\"}, '9f66cca6-23ac-4e44-9e7e-241f74e1c1b0': {'Title': 'Software Engineer (Software Implementer)', 'Description': 'We are looking for people with diverse range of talents and skills to join our professional teamwork. Be part of our organization and you can collaborate with innovative and enthusiastic minds while moving forwards with opportunities and success in your career\\n\\nWhat we want?\\n- Implementing, Supporting and Consulting clients and customers while ensuring customer requirement and satisfaction.\\n- Ensure complaints and incidents be taken care, responded and resolved within SLAs and the preventive actions be established to prevent future problems.\\n- Ensure readiness and accuracy on system configuration regarding integration of solution to current operating environment prior deployment to ensure that equipment and system will be integrated and operated efficiently.\\n\\nWho are we looking for?\\n- Software Implementation (Installation, Configuration and upgrading)\\n- Basic knowledge usage in Operating System (Linux/Unix and Windows)\\n- Basic knowledge in Network\\n- Basic knowledge in Cloud Concept, experiences in any public cloud (Azure, AWS, GCP, etc.) is a plus\\n- Basic knowledge in Web/API Security Concept is a plus\\n- Programing Skill is a plus\\n- Highly motivated to learn new technologies and drive engagements with customers\\n- Able to communicate in English\\n- Experience with Infrastructure on-prem and cloud would be an advantage.\\n- Responsible for proactively maintaining knowledge and technical capability. \\xa0\\n- Able to self-learning and self-motivated through curiosity.\\n- Have a passion for work.\\n- New graduate are welcome.\\n- Knowledge in AI and the ability to use AI-related tools and technologies\\n'}, 'c6e5cd75-be7d-4b91-9ce1-87fa5c67c3cf': {'Title': 'Mobile Application Programmer (Flutter, PHP Backend, AWS) - Subsidiary Company', 'Description': \"Responsibilities:\\n\\n- Develop, test, and maintain mobile applications using Flutter.\\n- Collaborate with cross-functional teams to define, design, and ship new features.\\n- Integrate applications with backend services using PHP.\\n- Design and implement RESTful APIs to support mobile functionality.\\n- Optimize applications for maximum performance and scalability.\\n- Troubleshoot and debug applications to ensure optimal performance.\\n- Deploy and manage applications on AWS.\\n- Implement and maintain CI/CD pipelines using GitLab.\\n- Maintain code quality, organization, and automation.\\n- Stay updated with the latest industry trends and technologies.\\n\\nRequirements:\\n- Bachelor's degree in Computer Science, Information Technology, or a related field.\\n- At least 3 years of experience in mobile application development\\n- Proficiency in Flutter for mobile application development.\\n- Strong knowledge of PHP and experience in backend development.\\n- Experience with database management systems such as MySQL and SQL Server.\\n- Proven experience in developing and deploying at least 5 mobile applications.\\n- Solid understanding of object-oriented programming principles.\\n- Familiarity with version control systems like Git.\\n- Experience with AWS services such as EC2, S3, RDS, Lambda, etc.\\n- Strong understanding of CI/CD practices and experience with GitLab CI/CD.\\n- Strong problem-solving skills and attention to detail.\\n- Ability to work independently and as part of a team.\\n\\nQualification\\n- Experience with other backend technologies and frameworks.\\n- Knowledge of other cloud services (e.g., Azure, Google Cloud).\\n- Familiarity with Agile/Scrum development methodologies.\\n- Excellent communication and interpersonal skills.\"}, '490f3b59-29b6-419f-a701-c349729bfe69': {'Title': 'Project Engineer', 'Description': '- Multi-task in job’s function between project operation and project management.\\n- Support Presales/Sale team to propose the system integration & solution to customer.\\n- Technical support, consulting and troubleshooting for client site.\\n- Able to work onsite at customer site.(in bangkok or up-country)\\n- Teamwork and Co-operation with project team or external/internal team.\\n- Up-to-date in Tech/IT Trends and able to co-working with partners and product vendors.\\n- Service delivery and project management.\\n\\nQualifications :\\n- Bachelor degree or higher in in Computer Engineering or Computer Science or related field\\n- At least experience for 3-10 years in IT Operation Support or System/Networking Engineer.\\n- Experience in IT Operation Support and Service for Application and Infrastructure.\\n- Knowledge of Application work-flow and IT Infrastructure Layer.'}, 'd52f80de-a676-4bb2-a404-c0e6aac268ec': {'Title': 'Software Engineer Internship', 'Description': '- เรียนรู้การพัฒนาระบบ Platform ServiceNow และได้ลองทำงานจริง\\n- Training 1 month\\n- Create 2 applications on Servicenow 1 month\\n- Integrate with 3rd party app over REST API with ServiceNow 1 month\\n- Knowledge management 1 week\\n- Chatbot + Live chat 3 weeks\\n- work with MFEC ServiceNow team for deliver project until end of intern period.'}, '1650c0d2-3934-492a-9796-df9df4917bc3': {'Title': 'Technical Presales', 'Description': 'As a Technical Presales Consultant at MFEC,  you will work closely with the sales, marketing and business development teams to support Enterprise Solution sales activities. This role will be active in reviewing and responding to Requests for Proposals and preparing and delivering presentations to prospects. You will also provide business and technical product expertise, solution features and benefits information and deal-specific competitive analysis.\\n\\n What we want?                              \\n- Perform analysis and design high-level solution to meet user requirements.          \\n- Coordinate with software vendors to update new technologies\\n- Recommend IT process flows align with ITIL guideline\\n- Work with Account Manager to propose solutions with align with account strategy.\\n- Understanding customer’s needs\\n- Preparing and delivering and delivering customer presentation and demonstrations of the software, hardware articulately and confidently.\\n- Delivering proof-of-concept implementations using customer data, data models, and functional use cases\\n\\nWho are we looking for?\\n- Bachelor’s Degree in Computer Science or Computer Engineering\\n- 2-10 years working experience in IT-related fields\\n- An ability to communicate technical information to non-technical staff in a way that is easy to understand.\\n- Self-motivated, Service mind, Competitive, Result driven attitude, Passion, Dedication and focus\\n- Able to follow up with Partner and Vender like BMC, Broadcom, IBM, CISCO, Oracle, AppDynamics, ServiceNow etc.\\n- Be able to understand product detail clearly\\n- Support sales Team, make proposal, do the product presentation\\n- Have a passion for the newest technology\\n- Good Communication both writing and speaking Thai & English.'}, '8d1912d0-b236-447a-954e-36f6722137fb': {'Title': 'Business Analyst/Business Consultant', 'Description': \"Job Highlight\\n- Business Process Improvement\\n- IT Banking/Financial Solution\\n- Fresh Graduate are welcome\\n\\nWe are looking for a Business Analyst/Business Consultant, you will be responsible for improvement of business process and being a customer's consultant in IT Financial Solution such as, Capital Market Solution and Lending Solution.\\n\\nWhat we want?\\n- Work closely with business users in order to capture the business need, objectives, direction, and detailed requirements of the IT Financial solution.\\n- Work closely with key customers to keep them updated on process changes designed to improve service.\\n- Review current staff performance and offering suggestions for improvement.\\n- Use appropriate tools to ensure completeness and sufficiently detailed requirements are captured, analyzed, and documented as for the basis for software/system development. \\n- Create in-depth reports and presentations on a business’s processes.\\n\\nWho are we looking for? \\n- Have experiences in IT project implementation\\n- Have knowledge or experience in Banking/Finance businesses\\n- Have experience in business development, business consultant or business analysis\\n- Have knowledge in Lending business (is a plus)\\n- Have strong problem analysis & solving and prioritization skills\\n- Have good presentation skills\\n- Have good interpersonal and communication skills \\n- Good at working with multiple stakeholders with multi-national environment\\n- Good in English (reading, writing, and speaking)\\n- Knowledge in AI and the ability to use AI-related tools and technologies\\n\\nMFEC OKR:- As MFEC People, you will be a part of our talent team. Besides your  main responsibilities, you do have special projects as part of OKR. However, the percentages will be different according to the positions and teams. \"}, '13ccba9b-bb45-48b0-81f7-2979ef9f4efe': {'Title': 'System Analyst', 'Description': \"Job Highlight\\n- System Analyst, Get Requirments\\n- PL/SQL\\n- Competitive Salary with high welfares & benefits\\n\\nWe're looking for an experienced System Analyst to lead a projects and translate of business requirements into technical requirements\\n\\nWhat we want?\\n- Leads the translation of business requirements into technical requirements.\\n- Collaborating with Business Analysts, Project Leads and team.\\n- Performs system analysis, design, and configuration.\\n- Develops, writes, and communicates systems design, functional system specifications and workflow diagram.\\n- Coaches and transfers knowledge to less experienced team members.\\n- Investigates problems and develops recommendations for resolution.\\n\\nWho are we looking for? \\n- Bachelor’s degree in Computer Engineering or Computer Science and/or Master's degree business or Computer science\\n- Knowledge in PL/SQL\\n- Strong experience in user requirements gathering, analysis and design by creating software specification documents.\\n- Strong analytical and problem solving skills.\\n- Experience in project team management.\\n- Self-motivated with the ability to prioritize, meet deadlines, and manage changing priorities.\\n- Good communication and relationship, good team working.\\n\\nMFEC OKR:- As MFEC People, you will be a part of our talent team. Besides your main responsibilities, you do have special projects as part of OKR. However, the percentages will be different according to the positions and teams. \"}, '2ab4c725-c6a3-42a4-83c9-4124949a6a2f': {'Title': 'Presales Engineer (System and Storage)', 'Description': \"We are looking for an experienced Presales Engineer who will assist the sales team with technical skills and functional expertise\\n\\nWhat we want?\\n- The first area involves supporting pre-sales activities by giving detailed information about technical specifications and the ways in which they could meet a customer's needs, often demonstrating those features before a sale;\\n- The actual sale involves negotiating a commercial agreement to the benefit of both customer and supplier; technical support, which follows the sale, may include solving faults and problems.\\n- Responding to RFP/RFI /TOR (Request for proposal/information).\\n- Understanding and learning company products and demonstrating the system to prospects.\\n- Product positioning and act as solution architecture for clients\\n\\nWho are we looking for?\\n- Bachelor’s Degree in  Computer Science or Computer Engineering or Business\\n- Experience in the IT presales or related field.\\n- Having System and Storage / Security / Application & Development skills.\\n- Self-motivated and work well independently\\n- Strong service mind with excellent communication and presentation skills.\\n- Flexible and easily adaptable\\n- Good communication of English\\n- Work with Passion, Professional and Teamwork\\n- Years of Experience 1 year\\n- Knowledge in AI and the ability to use AI-related tools and technologies\\n\"}, 'fde717f3-507b-4771-9b6e-6a38234a02df': {'Title': 'System Engineer', 'Description': 'What We Want?\\n\\n- Responsible for implementation, configuration and maintenance system according to standard identify and comply with guideline related Windows platform support\\n- Supporting day-to-day operation incident and change\\n- Support standby on-call support or remote support\\n- Support customers’ request and troubleshooting customer’s problems\\n - With pro-active tool, monitor, evaluate (performance, availability and reliability) and suggest for system health status and improvement\\n- Perform system refreshment(up-firmware), installation and migration\\n- Assign storage to servers\\n- Manage enterprise storage and virtualization environment\\n\\nWho are looking for?\\n- 5-10 Years work experience on Operating system Windows, Server, Storage, Virtualization, and other related products\\n- Good understanding of VMware, Microsoft and storage is necessary\\n- Good analytical, troubleshooting and problem-solving skills\\n- Good understanding of using backup software, such as Veeam\\n- Good understanding of network infrastructures such as VLAN, network routing, firewall\\n- Positive attitude and good service mind\\n- Knowledge in AI and the ability to use AI-related tools and technologies\\n'}, '79496574-fc66-4e10-aed9-442b48d53ba7': {'Title': 'Project Manager', 'Description': \"Job Highlight\\n- Software Development Project\\n- Background in Project management\\n- Competitive salary with high benefits\\n\\nWe're looking for an experienced Project Manager to manage projects and make sure the projects to be completed on time.\\n\\nWhat we want?\\n- Manage, control and coordinate project schedule & implementation to make sure the project to be completed on time.\\n- Monitor, track and control outcomes to resolve issues, conflicts, dependencies and critical path deliverable.\\n- Implement and manage change when necessary to meet project output.\\n- Perform risk management to minimize project risks.\\n- Establish, manage and maintain relationship with the stakeholders, business partner and third parties/vendors.\\n- Utilize industry best practices, techniques, and standards throughout entire project execution.\\n- Create and maintain comprehensive project documentation.\\n- Measure project performance to identify areas for improvement.\\n- Perform other related duties as assigned.\\n\\nWho are we looking for? \\n- At least 1-5 years working experience in project management, large scale project preferred.\\n- Proven working experience in project management.\\n- Understanding of Agile methodology (SCRUM).\\n- In-depth knowledge of project management and sense of ownership.\\n- Excellent organizational and time-management skills.\\n- Ability to communicate effectively, including writing skill both Thai and English\\n- Self-motivated, service-minded, and able to work both independently and under pressure.\\n- Knowledge in AI and the ability to use AI-related tools and technologies\\n\\nMFEC OKR:- As MFEC People, you will be a part of our talent team. Besides your main responsibilities, you do have special projects as part of OKR. However, the percentages will be different according to the positions and teams. \"}, '50cd25c0-1ff3-4a12-944e-2d816c74b95f': {'Title': 'System Engineer (Infrastructure, Bigdata)', 'Description': 'Job Highlight\\n- New Graduate are Welcome \\n- IT Infrastructure \\n- Bigdata\\n\\nWe’re looking for a talented Systems Engineer who has the necessary experience to help build out our infrastructure solutions, bigdata product and troubleshoot problems of our customers.  \\n\\nWhat we want?\\n- Implement and integration focused solutions of customer IT infrastructure. \\n- Provide technical support, troubleshooting and maintenance services.\\n- Learning by doing with Data Platform engineer during a project implementation phase & support phase \\n- Introduce new technology and solutions to improve work process. \\n- Work with support team to resolve technical issues. \\n\\nWho are we looking for? \\n- Excellence in communication skills with both Thai and English languages\\n- Excellence in explanation technical information to non-techies\\n- Have a passion for the newest technology \\n- Strong problem-solving and analytical skills\\n- Good teamwork and discipline\\n- Good service mind and communication\\n- Knowledge in AI and the ability to use AI-related tools and technologies\\n\\nMFEC OKR:- As MFEC People, you will be a part of our talent team. Besides your main responsibilities, you do have special projects as part of OKR. However, the percentages will be different according to the positions and teams.'}, '3ee40be1-7cf4-43bc-9481-bcade34ecaf3': {'Title': 'Purchasing Officer Internship', 'Description': '-Assist in sourcing and evaluating potential vendors for IT equipment, software, and services.\\n-Aid in negotiating pricing, terms, and contracts with suppliers to ensure favorable agreements for the company.\\n-Assist in the preparation of purchase orders, requisitions, and other procurement documents accurately and in a timely manner.\\n-Help in maintaining accurate records of purchases, pricing, and inventory levels using appropriate software tools.\\n-Support in tracking and monitoring deliveries to ensure timely receipt of goods and services.\\n-Collaborate with internal departments such as IT, finance, and administration to address procurement-related issues and ensure alignment with company policies and procedures.\\n-Assist in evaluating supplier performance and providing feedback to improve vendor relationships.\\n-Contribute to the development and implementation of procurement strategies to optimize cost-efficiency and quality standards.\\n-Participate in periodic inventory audits and assist in reconciling discrepancies as necessary.\\n-Stay updated on industry trends, market conditions, and new procurement methods to identify potential opportunities for improvement.\\n\\nQualification\\n\\n-Currently enrolled in a Bachelor&apos;s degree program, preferably in Business Administration, Supply Chain Management, or a related field.\\n-Strong attention to detail and organizational skills.\\n-Excellent communication and interpersonal abilities.\\n-Proficiency in Microsoft Office Suite, particularly Excel and Word.\\n-Ability to work effectively in a team environment and collaborate with cross-functional teams.\\n-Eagerness to learn and willingness to take on new challenges.\\n-Prior internship experience in procurement or related field is a plus.\\n-Familiarity with procurement software or ERP systems is desirable.'}, '798ec5d4-cb76-4316-856b-e6c4a877a629': {'Title': 'Marketing Product Performance Management Lead (MarTech)', 'Description': 'As a MarTech Solution Consultant, you will be implementing marketing automation and strategy for our clients. You will help analysis root cause, strategy, design, scope, and specify Martech solution, as well as implementing them for our clients. You will have to set new standards for customer relations based on insight and the intelligent deployment of technology. As a Martech Solution Consultant, you will play an important role in terms of working with business insights, data insights, Solution Architects and pushing the limits of technology\\n\\n \\n\\nJob Responsibility:\\n- Working with clients, partner and other teams to support the development of customer strategy and translating this into Marketing Technology roadmaps, business cases and detailed solution requirements\\n- Guiding clients on the adoption and use of Marketing Solution from vendors such as CDP, Marketing automation, Chatbot, and other ai solution or Marketing Technology Solution related.\\n- Analyzing a client marketing performance after implementation and optimization strategies to maximize performance\\n- Running workshops to define solutions and enhancement to platforms that will deliver meaningful business benefit\\n- Leading the design and delivery of platform enhancements and customer marketing programs and cross-channel journeys\\n- Jumping into new opportunities presented by sales and client service teams by supporting requirements gathering, qualification, proposal writing and pitch delivery\\n- Working as part of vendor community of Marketing Technology experts to provide thought leadership and training to colleagues and clients\\n\\nQualifications :\\n - Minimum 3-5 years of experience in delivering marketing solutions\\n- Solid understanding of marketing, marketing technologies and ability to apply technology know-how to better how our clients reach out to their customers\\n- Show initiative and commitment to your continuous improvement as well as our shared working methods\\n- Broad knowledge of marketing technologies (DMP, CDP, Marketing automation and etc.)\\n - Deliver and execute on technical design solutions, customizing where required, using Technology or Experience in tech stack\\n- Deliver projects on time and on budged\\n- Experience of AdTech & Martech, Data visualization platforms like Datorama, Tableau, Data Studio and Cloud Platforms and similar would be an advantage\\n- Knowledge in AI and the ability to use AI-related tools and technologies\\n'}, '059d1ddc-61f7-4a16-95c8-79d007e6db3e': {'Title': 'Legal Documentation Assistant Intern', 'Description': 'Qualifications:\\n- Currently pursuing a Bachelor&apos;s degree in a relevant field or individuals interested in legal document work.\\n- Strong attention to detail and accuracy.\\n- Proficient in Microsoft Word and Excel.\\n- Ability to work in a team and manage time effectively.\\n- Skilled in data verification and systematic document management.\\n- Excellent communication and coordination skills with team members and stakeholders.\\n- Quick thinking and adaptable to changing circumstances.\\n- Interest in legal work is a plus.\\n\\nResponsibilities:\\n- Assist in legal document tasks, including data entry and document scanning into the system.\\n- Execute tasks according to established procedures and timelines.\\n- Maintain confidentiality and security of assigned documents.\\n- Perform other duties as instructed by the mentor.'}, '491fdd44-0d51-408f-8a2f-f19e41a2bd81': {'Title': 'Business Analyst', 'Description': 'The Process Automation Analyst will collaborate with various departments to analyze business processes and determine improvement opportunities. The responsibilities will also include creating the low code platform solutions needed to automate the business processes and enhance efficiency and effectiveness.\\n\\nWhat we want?\\n• Analyze business processes, identify potential automation\\n• Understand workflow based logic and the ability to illustrate it as a diagram\\n• Design solutions using ServiceNow AppEngine together with developers\\n• Manipulate different types of data and work with variables including strings, integers, and data tables.\\n\\nWho we are looking for?\\n• Degree in engineering or technology preferred, but not required\\n• Strong “People First” interest and ability\\n• Extremely analytical and able to make sound business decisions\\n• Ability to work independently and accurately to meet deadlines\\n• Certification as a RPA developer/architect preferred'}, 'a2bdad60-7586-473f-8a8f-10b65f950b45': {'Title': 'Associate Consultant', 'Description': 'Responsibilities: \\n- Build and maintain relationships with clients - understand their challenges, their goals and write up consulting project proposals.\\n- Develop strategic research and consulting proposal with a framework to win the project.\\n- Conducting research and work on analysis assignments \\nRepresent our product and services. \\n- Be our brand ambassador, go out to the public, talk to prospective clients about our service and bring back the requirements along with feedback from them.\\n\\nQualifications:\\n- Male/Female Age 22 - 40 years old\\n- Bachelor degree in business or related fields - New Grads are welcomed!\\n- Good Interpersonal and Communication Skills, \\n- Analytical and Presentation Skills\\n- Good Business Mindset\\n- Good command of written and spoken Thai and English.\\n'}, '54346afa-3099-4331-8893-671f135fa354': {'Title': 'Market Research Analyst Internship', 'Description': 'Key Responsibilities:\\n· Understanding business objectives and designing surveys to discover prospective customers’ preferences\\n· Analyzing statistical data using modern and traditional methods to collect it\\n· Collecting data on consumers, competitors and marketplace and consolidating information into actionable items, reports and presentations\\n· Monitor and predict sales and marketing trends.\\n· Measure how well marketing strategies and programs are working\\n· Support creation of quality measurements to track communication improvements in both internal and external channels\\n· Support creation of key insights & analysis of corporate communication\\n· Support in creating communication strategies in/externally and work closely with content creators\\n\\nQualifications:\\n● 3rd or 4th year student in a major in Marketing / Business / Communication or in any related field\\n● Excellent communication and presentation skills\\n● Have knowledge of Microsoft Office, particularly Excel\\n● Strong passion to learn and possession of growth mindset\\n● Fluent in both Thai and English (especially in reading and writing)\\n● Able to work under pressure and prioritize tasks\\n● Able to work independently and in a team environment\\n● Be open-minded and resilient\\n● Knowledge in AI and ability to use AI-related tools and technologies.'}, '20ff36c1-e57a-4d0d-8dde-5c2511d738a9': {'Title': 'Customer Support Engineer', 'Description': 'Job Highlights\\n- Data Platform Product - Cloudera CM\\n- Customer Consulting\\n- Opening for New Graduation\\n\\nCustomer Support Engineer is engineer who assist, consult and support our client work closely with customer with service mind and professional manner to be customer’s consultant like a partner or helping to rescue production incident issue as data doctor.\\n\\nWhat we want?\\n- Learning by doing with Data Platform engineer during a project implementation phase.\\n- Self-Studying all Msyne Product configuration.\\n- Perform All Product Upgrade or update service patch\\nPerform All Product Preventive maintenance.\\n- Standby Incident on call /On site 24*7 (8 hrs /shift).\\n- Collect all knowledge base in centralized support KB.\\n- Work with customer to understand incident which raised by customer.\\n- Open incident ticket to product portal.\\n- Work with product support engineer for the cases.\\n- Investigate and finding root cause foe each issues.\\n- Finding workaround and long term solution to resolve problem within SLA.\\n- Perform activity within SLA strictly by active responsive.\\n- Proactive to find out preventive solution.\\n\\nWho are we looking for? \\n- Opening for New Graduation\\n- Technical Skill: shell command, RHEL knowledge, HDFS command,  Cloudera CM is plus.\\n-  Investigation , Root cause analysis, good communication, English language.\\n- Knowledge in AI and the ability to use AI-related tools and technologies\\n\\nMFEC OKR:- As MFEC People, you will be a part of our talent team. Besides your main responsibilities, you do have special projects as part of OKR. However, the percentages will be different according to the positions and teams.\\n'}, '606f246b-a1b7-4be9-a967-3f119dfa3c38': {'Title': 'Creative Content Internship', 'Description': 'About Us\\nCorporate Communication and Branding, a team made up of people exhibiting many different skill-sets all working towards a common goal: to improve MFEC brand and the ways that people perceive it. We are in charge of seizing new opportunities in this VUCA world by working as a connector between many stakeholders. We work on the same page to make things possible and create a current of waves that impact others.\\n\\nWhat you&apos;ll work on:\\n· Support current projects involving writing, editing, researching and reporting\\n· Draft and edit blog posts, news articles and website copy\\n· Assist with copywriting for brochures, award submissions, reports and other marketing material\\n· Research subject matter, competitors, industry and target audience\\n· Research articles and information related to the subject matter to include in web articles\\n· Work with the Creative team to identify and understand high-level messaging and strategy\\n· Monitor trends in client’s industries\\n\\nWho you are:\\n· Ability to work well in a team environment\\n· Excellent writer\\n· Extremely organized\\n· Eagerness to learn\\n· Proficient multitasker\\n· Responsive to feedback\\n· Self-motivated\\n· Knowledge of proper spelling and grammar\\n· Attentive to detail\\n· A desire to gain experience in a professional Tech environment.\\n\\nWhat you should know before applying!\\n· We are a Tech Company; it would be great if you were excited about the Technology industry\\n· You are able to work in an office, MFEC is currently a hybrid work environment but our team needs to work onsite 5 days per week for powerful collaboration with both inside and outside team\\n· You have strong organizational skills\\n· You have collaborative spirit, results driven by the ability to manage multiple priorities and work against deadlines\\n· You demonstrated creative thinker\\n· You must be pro-active, and able to operate effectively both independently and within a team\\n· You must have excellent written, verbal communication, and exceptional interpersonal skills'}, 'eb90391d-4067-4971-b4a8-5fc8a3f9da88': {'Title': 'Information Security Engineer', 'Description': 'Job Highlight\\n- IT Solutions & Services\\n- Work with Passion, Professional and Teamwork\\n- Grow up in Career path\\n\\nWe are looking for talented Cyber Security Engineer to find the most efficient way to create and to manage every cyber security solution for multiple clients.\\n\\nWhat we want?\\n- To propose improvement to infrastructure and security systems and may present them to customer’s upper management.\\n- Plan and carry out a customer’s information security strategy to be the healthy security architectures for any IT project.\\n- To implement security system and ensure compliance with corporate cyber security policies and procedures.\\n- To provide professional supervision and guidance to security teams.\\n- Works with other business units, partners, and customers to maintain secure methods of security management.\\n\\nWho are we looking for?\\n- Experience in IT infrastructure or Cyber Security field.\\n- Great awareness of Cyber Security trends and new technology update.\\n- Knowledge in Security Management is advantage.\\nExcellent knowledge in Security Product (Antivirus/Firewall/VPN, IPS/IDS), Security Platform, Endpoint Solution, and Network Security solution is a plus\\n- Excellent problem solving and analytical skill, planning and organizing skill and customer oriented.\\n- Security Profession Certification is a plus. \\n- Knowledge in AI and the ability to use AI-related tools and technologies\\n\\nMFEC OKR:- As MFEC People, you will be a part of our talent team. Besides your main responsibilities, you do have special projects as part of OKR. However, the percentages will be different according to the positions and teams. '}, '023659b8-b957-4eb4-98d6-00d8414d6afd': {'Title': 'People Development and Growth (PDG) Internship', 'Description': \"Responsibilities\\nAssist in the design, development, and implementation of employee development programs, including training workshops, seminars, and mentorship initiatives.\\nCollaborate with HR team members to identify learning and development needs within the organization and create tailored solutions to address them.\\nSupport the coordination and logistics of training and development activities, including scheduling, venue arrangements, and participant communications.\\nHelp administer employee engagement surveys and analyze feedback to identify areas for improvement and implement strategies to enhance employee satisfaction and retention.\\nAssist in the planning and execution of performance management processes, including goal setting, performance evaluations, and feedback sessions.\\nContribute to the design and maintenance of career development resources, including career paths, job descriptions, and competency frameworks.\\nProvide support in talent acquisition efforts, including candidate sourcing, screening, and interview coordination, to ensure a pipeline of qualified candidates for open positions.\\nAssist with HR administrative tasks, such as maintaining employee records, updating HRIS systems, and preparing documentation related to employee development initiatives.\\nParticipate in HR meetings, workshops, and projects to gain exposure to various aspects of HR operations and contribute ideas for continuous improvement.\\nStay informed about industry trends, best practices, and regulatory changes related to people development and growth to ensure alignment with organizational goals and compliance requirements.\\n\\nQualification\\n\\nCurrently enrolled in a Bachelor's or Master's degree program, preferably in Human Resources Management, Organizational Development, Psychology, or a related field.\\nStrong interest in human resources, talent development, and organizational effectiveness.\\nExcellent communication and interpersonal skills, with the ability to collaborate effectively with cross-functional teams.\\nDetail-oriented with strong organizational and project management abilities.\\nProficiency in Microsoft Office Suite (Word, Excel, PowerPoint) and familiarity with HRIS systems is a plus.\\nAbility to maintain confidentiality and handle sensitive information with discretion.\\nEagerness to learn, adaptability, and a proactive attitude towards personal and professional growth.\\nPrevious internship or coursework experience in HR or related field is preferred but not required.\"}, 'ef87e4ae-1d2c-4a75-9577-80954d1dd98a': {'Title': 'System Operator (Onsite)', 'Description': \"Job Highlight\\n- Open for New Graduation\\n- Exposure to banking system & technologies\\n- Good teamwork  \\n \\nWe are looking for new members of System Operator to join ITOMS Team to offer the best service in resolving critical server, application and system alert for our large enterprise customers.\\n \\nWhat we want ?\\nSystem Operator Batch \\n- Being able to arrange job stream using Job scheduler Tools\\nBeing able to execute job using Job scheduler Tools\\n- Monitor and take corrective action when required.\\n- Cooperate with related team to deploy Test & Production application.\\n- Monitor Backup Job scheduler and Summary Report.\\n\\nSystem Operator Monitoring\\n- Monitor alarm signals and respond to alarm following procedures.\\n- Most process excellent customer service and telephone skills\\n- Respond to and resolve critical server ,application and system alert.\\n- Report all service impacting issues of detection.\\n- Monitor alert/Trouble tickets to ensure that service levels.\\n- Monitor the infrastructure environment and application services for stability and performance. \\n \\nWho are we looking for?\\n - 0-3 years experience in system operator\\u202f** Open for New Graduation ** \\n- Graduate in\\u202fBachelor’s Degree in Computer Science or IT related fields\\n- Being able to document process and procedures related to systems monitoring, update user's manuals, and technical manuals as necessary\\n- Being able to arrange job stream using Job scheduler Tools\\n- Being able to execute job using Job scheduler Tools\\n- Be able to work in shift  \\n- Knowledge in AI and the ability to use AI-related tools and technologies\\n\\nMFEC OKR:- As MFEC People, you will be a part of our talent team. Besides your main responsibilities, you do have special projects as part of OKR. However, the percentages will be different according to the positions and teams.\"}, '629dc125-a68e-42cf-bad9-c99229e7f155': {'Title': 'Information Security Implementation Engineer (Network Security)', 'Description': 'About the Role\\nWe are seeking a highly motivated and experienced Cyber Security Implementation Engineer to join our growing team. In this role, you will be responsible for the implementation, operation, troubleshooting, and reporting of network security solutions, with a particular focus on firewalls (both on-premises and cloud-based). You will play a key role in ensuring the security of our customer networks and data.\\n\\nResponsibilities:\\n-Design, implement, and configure on-premises and cloud-based firewalls for optimal network security.\\n-Perform ongoing maintenance and configuration updates to firewalls.\\n-Troubleshoot firewall issues and identify potential security threats.\\n-Generate comprehensive security reports for customers, summarizing findings and recommendations.\\n-Participate in Proof-of-Concept (POC) activities for new security solutions (beneficial but not mandatory).\\n-Stay up-to-date on the latest cyber security threats and vulnerabilities.\\n-Collaborate with internal teams (Security Operations Center, Engineering) and external vendors to ensure successful implementation and support.\\n-Communicate effectively in English, both verbally and in writing, to collaborate with IT Security vendors.\\n\\nQualifications:\\n-Experience in network security implementation and administration (2+ years of experience is a benefit).\\n-Strong understanding of firewall technologies and functionalities (e.g., Checkpoint, Fortinet FortiGate, Palo Alto Networks).\\n-Experience with network security concepts such as firewalls, intrusion detection/prevention systems (IDS/IPS), and access control lists (ACLs).\\n-Experience with on-premises and cloud-based security solutions (AWS, Azure).\\n-Excellent problem-solving and troubleshooting skills.\\n-Strong analytical and communication skills, with the ability to create clear and concise reports.\\n-Ability to work independently and as part of a team.\\n-A passion for cyber security and a desire to stay current with the latest trends and threats.\\n\\nBenefits of working with us:\\n-Opportunity to work on challenging and rewarding projects in a fast-paced environment.\\n-Competitive salary and benefits package.\\n-Continuous learning and development opportunities.\\n-Be part of a growing and dynamic team.\\n-Please note that experience with Proof-of-Concept (POC) activities is a benefit but not mandatory.\\n'}, 'ef185e86-ffde-4be5-a8c3-6656bfadbba5': {'Title': 'System engineer (Share point)', 'Description': 'We are looking for an experienced of System Engineer to join MTIS Team to offer designing, planning, and developing applications with IT Team and business. \\n\\nWhat we want?\\n- Work with IT team and Business users to ensure that the local IT development & solution achieve the agreed business requirements\\n- Investigate and resolve issues related to local IT development & solution including providing resolutions to business\\n- Design and develop applications using Microsoft 365 and Power Platform including SharePoint, Power Apps and Power Automate\\n- Provide assistance to any incident /request related to local IT development & solution\\n- Provide training on Microsoft 365 / SharePoint / Power Platform development and best practices\\n- Share and support the local IT competency development on new tools and technology trends\\n- Responsible for scoping and completing works/tasks on time\\n\\nWho are we looking for?\\n- Bachelor’s degree in computer engineering, Computer Sciences, Management Information System, or related field\\n- Having literacy of Microsoft Technologies, Software Development Life Cycle including IT tools e.g. PowerApps, Excel Macro /Visual Basic, SharePoint, MS Flows. Additionally, having Web App, HTML, Java Script, or CSS knowledge/skill is a plus.\\n-  Having insight of the capabilities of Microsoft Power Platform including Power BI, Power Apps and Power Automate\\n- Good analytical skill - to analyze, isolate and interpret business needs and develop effective technical solutions\\n- Being able to communicate in English\\n- Good attitude, service-minded, multi-tasking capability, energetic, well-disciplined, and excellent interpersonal skills\\n- Be willing to provide after-hours support for any critical issue\\n- Team working with high accountability\\n- Knowledge in AI and the ability to use AI-related tools and technologies\\n\\nMFEC OKR: As MFEC People, you will be a part of our talent team. Besides your main responsibilities, you do have special projects as part of OKR. However, the percentages will be different according to the positions and teams.\\n'}, '621073d3-ad22-41ac-876b-61fc1551a34b': {'Title': 'Information Security Analyst (CSOC)', 'Description': 'Job Highlight\\n- IT Solutions & Services \\n- Work with Passion, Professional and Teamwork \\n- Work in Shift\\n \\nWe are looking for a highly proficient Cyber Security Consultant who has the professional knowledge and skill to drive and enhance our security solutions in any field at MFEC Cyber Security Operation Center (CSOC) for our large enterprise customers.\\n\\nWhat we want?\\n- To find the most efficient way to create and to manage every cyber security solution for multiple clients.\\n- To propose improvement to infrastructure and security systems and may present them to customer’s upper management.\\n- Plan and carry out a customer’s information security strategy to be the healthy security architectures for any IT project.\\n- To implement security system and ensure compliance with corporate cyber security policies and procedures.\\n- To provide professional supervision and guidance to security teams.\\n- Works with other business units, partners, and customers to maintain secure methods of security management.\\n- Work in Shift\\n\\nWho are we looking for?\\n- 1-3 Years or experience in Cyber Security field\\n- Great awareness of Cyber Security trends and new technology update.\\n- Strong knowledge and experience with various IT security such as Incident Handler, Forensic Examiner, Forensic Analyst is a plus.\\n- Excellent knowledge in Security Product (Firewall/VPN, IPS/IDS), Security Platform, Endpoint Solution, and Network Security solution.\\n- Excellent problem solving and analytical skill, planning and organizing skill and customer oriented\\n- Proficiency in English both written and spoken\\n- Security Profession Certification is a plus.\\n- Knowledge in AI and the ability to use AI-related tools and technologies\\n\\nMFEC OKR:- As MFEC People, you will be a part of our talent team. Besides your main responsibilities, you do have special projects as part of OKR. However, the percentages will be different according to the positions and teams.'}, 'e2476083-1f91-45bd-bc02-45ab5a21a646': {'Title': 'Front-End Developer - IoT and Smart Solutions', 'Description': '- Design and develop engaging and interactive web applications that align with our product vision and user requirements\\n- Convert UI/UX designs into high-quality, functional front-end code using HTML, CSS, and JavaScript\\n- Collaborate closely with Back-End Developers to ensure seamless integration between front-end and back-end components\\n- Implement responsive design principles to optimize user experience across various devices and screen sizes\\n- Leverage progressive web app (PWA) technologies to deliver an enhanced user experience, even offline\\n- Gather and analyze customer requirements to ensure web applications meet specific needs and expectations\\n- Continuously improve web applications by optimizing performance, enhancing usability, and addressing bugs\\n- Create mockups and prototypes to validate designs and gather feedback before development\\n- Demonstrate proficiency in version control systems, particularly Git, for efficient code management\\n- Utilize Adobe Photoshop, Adobe Illustrator, and Adobe XD/Figma for UI/UX design and prototyping\\n- Implement node.js for server-side scripting and backend functionalities\\n- Employ SQL queries to retrieve, manipulate, and store data from databases\\n- Apply UX/UI principles to ensure intuitive and user-friendly interfaces\\n- Effectively utilize Postman API testing tool to ensure API integration and functionality\\n- Understand and potentially implement ASP.NET or node.js APIs for enhanced functionality'}, '92ef2330-2c48-4d57-bba4-21af7e706ab8': {'Title': 'Talent Acquisition Partner Internship', 'Description': '- To be the best Talent Acquisition partner with Business Unit.\\n- Implement sourcing strategies to build pipelines of potential applicants, such as employer branding initiatives\\n- Utilizing all recruitment sourcing/acquisition channels to find candidates\\n- Conduct a full recruitment process from sourcing candidates, screening, scheduling, interviewing, offer, reference checking, negotiation, to onboarding.\\n- Handle end-to-end internship process including contact university, roadshow, and etc. (If Any)\\n- Handle HR documents according to company working processes and policies.\\n- Assisting in any ad-hoc project of People Excellence team to deliver quality outcomes.'}, '57babd41-e03e-4ab4-991c-d9fe59ac506f': {'Title': 'People Benefits and Well-Being Internship', 'Description': 'Job Responsibilities\\n- Assist in managing employee benefits programs, which include health insurance, retirement plans, and other additional benefits.\\n- Support the planning and implementation of well-being initiatives such as wellness programs, fitness challenges, mental health awareness activities, and more.\\n- Help in analyzing benefits data and preparing reports to assess program effectiveness and employee engagement.\\n- Collaborate with HR team members to effectively communicate benefits information to employees and address any related inquiries.\\n- Research industry trends and best practices in benefits and well-being to contribute innovative ideas.\\n- Participate in team meetings and projects pertaining to HR and organizational development.\\n\\nQualifications\\n- Currently enrolled in a Bachelor’s or Master’s degree program in Human Resources, Business Administration, Psychology, or a related field.\\n- Strong organizational skills and attention to detail.\\n- Excellent communication and interpersonal skills.\\n- Proficiency in Microsoft Office suite (Word, Excel, PowerPoint).\\n- Ability to handle confidential information with discretion.\\n- Interest in employee benefits, well-being, and HR practices.'}, 'be5f70d7-2b3a-42d3-8a22-18cf6051e4bf': {'Title': 'Jr.DevOps Engineer ', 'Description': 'Job Description\\nWe are looking for DevOps Engineer to work as a team with passion in streaming data environment. To transfer value to the customer.\\n\\nWhat we want?\\n- As a Digital Platform Engineer, you will be responsible for Implementing Development, supporting and consulting clients and customers while ensuring customer requirement and satisfaction.\\n- Be a part of project team to deliver item on milestone in project.\\n- Acquire new technology skill including soft skill. Implement, Develop and deliver high quality standard services and presentations.\\n- Design and Planning implementation/development plan for customer.\\n- Also control and manage customer requirement and satisfaction.\\n\\nWho are we looking for?\\n- Implement, Administrate and Supports product related Streaming technology\\n- Demonstrated software technical and function on premise and cloud-based.\\n- Experience with Kafka, Streaming platform, Event streaming, Message Queue.\\n- Experience with Linux shell script and command.\\n- Experience with CI/CD, Software Development Lifecycle an advantage.\\n- Experience with containers and their technologies such as Docker.\\n- Experience with container orchestration technologies such as Kubernetes.\\n- Experience with Configuring Relational Middleware such as Oracle Web Logic.\\n- Experience with GIT, GitHub/Lab, Jenkins an advantage.\\n- Experience with Ansible or infra as a code an advantage.\\n- New graduate are welcome.\\n- Knowledge in AI and the ability to use AI-related tools and technologies'}, '0be8ac36-0031-4e42-a5a9-4791c5f74693': {'Title': 'Data Engineer (Kafka Platform)', 'Description': 'Job Highlights\\n- Linux, Kafka\\n- Fresh Graduate are welcome\\n- Opportunity to growth\\n\\nWe are looking for Data Engineer (Kafka Platform) Be a part of project team to deliver item on milestone in project. Acquire new technology skill including soft skill. Implement, Develop and deliver high quality standard services and presentations. Design and Planning implementation/development plan for customer. Also control and manage customer requirement and satisfaction.\\n\\nWhat we want?\\n- Build data pipeline to processing data like transform, aggregation immediately by using SQL and programming language.\\n- Develop solutions to handle data streaming that ingress data from a source system and distribute to another system.\\n- Implement, administrate, and supports product-related streaming technology like Kafka.\\n- Administering, troubleshooting platform and data pipeline.\\n- Monitoring, analyze performance of data pipeline.\\n- Collaborate with Business users, Data source owners.\\nImplement, administrate container environment.\\n\\nWho are we looking for? \\n- Experienced with Kafka, Streaming platform, Event streaming, Message Queue.\\n- Experienced in Java or Python language.\\n- Experienced in Linux shell script and command.\\n- Experience Hadoop technology would be advantage\\n- Able to communicate in English.\\n- New graduate are welcome\\n\\nMFEC OKR:- As MFEC People, you will be a part of our talent team. Besides your main responsibilities, you do have special projects as part of OKR. However, the percentages will be different according to the positions and teams. '}}\n",
      "65\n"
     ]
    }
   ],
   "source": [
    "import csv\n",
    "\n",
    "# Put all the jobs into an array\n",
    "jobs = {}\n",
    "with open(\"./assets/data/raw_job_data.csv\", \"r\", encoding=\"UTF-8\") as file:\n",
    "    reader = csv.DictReader(file)\n",
    "    for row in reader:\n",
    "        # Remove the unecessary job data - only need ID, title, description\n",
    "        jobs[row[\"Job ID\"]] = {\"Title\": row[\"Title\"],\n",
    "                               \"Description\": row[\"Description\"]}\n",
    "\n",
    "print(jobs)\n",
    "print(len(jobs))"
   ]
  },
  {
   "cell_type": "markdown",
   "metadata": {},
   "source": [
    "# Convert a PDF resume into text so that we can use it in our program\n",
    "\n",
    "- If the PDF has readable text use the pymupdf module\n",
    "- If the PDF cannot be read - conv each page of the PDF to an image and use OCR w/ easyOCR module to get the text\n"
   ]
  },
  {
   "cell_type": "code",
   "execution_count": 10,
   "metadata": {},
   "outputs": [
    {
     "name": "stdout",
     "output_type": "stream",
     "text": [
      "Functional Resume Sample \n",
      " \n",
      "John W. Smith  \n",
      "2002 Front Range Way Fort Collins, CO 80525  \n",
      "jwsmith@colostate.edu \n",
      " \n",
      "Career Summary \n",
      " \n",
      "Four years experience in early childhood development with a diverse background in the care of \n",
      "special needs children and adults.  \n",
      "  \n",
      "Adult Care Experience \n",
      " \n",
      "• Determined work placement for 150 special needs adult clients.  \n",
      "• Maintained client databases and records.  \n",
      "• Coordinated client contact with local health care professionals on a monthly basis.     \n",
      "• Managed 25 volunteer workers.     \n",
      " \n",
      "Childcare Experience \n",
      " \n",
      "• Coordinated service assignments for 20 part-time counselors and 100 client families. \n",
      "• Oversaw daily activity and outing planning for 100 clients.  \n",
      "• Assisted families of special needs clients with researching financial assistance and \n",
      "healthcare. \n",
      "• Assisted teachers with managing daily classroom activities.    \n",
      "• Oversaw daily and special student activities.     \n",
      " \n",
      "Employment History  \n",
      " \n",
      "1999-2002 \n",
      "Counseling Supervisor, The Wesley Center, Little Rock, Arkansas.    \n",
      "1997-1999 \n",
      "Client Specialist, Rainbow Special Care Center, Little Rock, Arkansas  \n",
      "1996-1997 \n",
      "Teacher’s Assistant, Cowell Elementary, Conway, Arkansas     \n",
      " \n",
      "Education \n",
      " \n",
      "University of Arkansas at Little Rock, Little Rock, AR  \n",
      " \n",
      "• BS in Early Childhood Development (1999) \n",
      "• BA in Elementary Education (1998) \n",
      "• GPA (4.0 Scale):  Early Childhood Development – 3.8, Elementary Education – 3.5, \n",
      "Overall 3.4.  \n",
      "• Dean’s List, Chancellor’s List \n",
      " \n",
      "\n"
     ]
    }
   ],
   "source": [
    "import pymupdf\n",
    "\n",
    "text = \"\"\n",
    "with pymupdf.open(\"./assets/resumes/functionalSample.pdf\") as doc:\n",
    "    for page in doc:\n",
    "        text += page.get_text()  # type: ignore\n",
    "\n",
    "print(text)\n",
    "\n",
    "resumeText = text"
   ]
  },
  {
   "cell_type": "markdown",
   "metadata": {},
   "source": [
    "# Search_Jobs\n",
    "\n",
    "Let gpt find the top 5 closest matching jobs for the resume in text form\n"
   ]
  },
  {
   "cell_type": "markdown",
   "metadata": {},
   "source": [
    "Variation 1 - doesn't work well\n",
    "\n",
    "- Might need to go with a more systematic approach - a more logical algorithm that has specific instructions\n"
   ]
  },
  {
   "cell_type": "code",
   "execution_count": 20,
   "metadata": {},
   "outputs": [
    {
     "name": "stdout",
     "output_type": "stream",
     "text": [
      "[{'Job ID': 'e497b8c8-a1bd-4a4c-8f55-368bfb16628d', 'Job Title': 'IT Support Officer'}, {'Job ID': 'ef87e4ae-1d2c-4a75-9577-80954d1dd98a', 'Job Title': 'System Operator (Onsite)'}, {'Job ID': '610cdc6f-4dcc-4be8-a629-be16d774d74f', 'Job Title': 'Project Coordinator (Digital Platform Project)'}, {'Job ID': '629dc125-a68e-42cf-bad9-c99229e7f155', 'Job Title': 'Information Security Implementation Engineer (Network Security)'}, {'Job ID': 'e6de0fa5-fb07-4fbd-96e2-91b06991c1d7', 'Job Title': 'System Engineer'}]\n"
     ]
    }
   ],
   "source": [
    "from openai import AzureOpenAI\n",
    "from dotenv import dotenv_values\n",
    "\n",
    "secrets = dotenv_values(\"../.env\")\n",
    "\n",
    "client = AzureOpenAI(azure_endpoint=secrets[\"AZURE_OPENAI_ENDPOINT\"],  # type: ignore\n",
    "                     api_version=secrets[\"AZURE_OPENAI_API_VERSION\"],\n",
    "                     api_key=secrets[\"AZURE_OPENAI_API_KEY\"],\n",
    "                     azure_deployment=\"gpt4o\")\n",
    "\n",
    "\n",
    "def searchJobs(userResume: str, resultsAmount: int):\n",
    "\n",
    "    instructionPrompt = [{\"role\": \"system\", \"content\": \"You are a company's HR assistant. Your duty is to help search for the right job positions for a candidate by comparing all the job positions available with the candidate's job resume and returning the jobs which are the most fitting for the candidate's resume.\"},\n",
    "\n",
    "                         {\"role\": \"system\", \"content\": f\"Here are all the available job positions and their descriptions: \\n{\n",
    "                             jobs}\"},\n",
    "\n",
    "                         {\"role\": \"system\", \"content\": f\"Here is the candidate's resume: \\n{\n",
    "                             userResume}\"},\n",
    "\n",
    "                         {\"role\": \"system\", \"content\": \"\"\"\n",
    "\n",
    "\t\t\t\t\t\tUse these judgement factor as a reference to go off of for your analysis of which job fits the user's resume the most(they are not listed in order of importance): \n",
    "\n",
    "\t\t\t\t\t\t- Job relevance: How closely does the candidate's work experience align with the job requirements?\n",
    "\n",
    "\t\t\t\t\t\t- Skill alignment: Does the candidate possess the necessary skills and competencies? The more skillful a candidate in that job's respective field, the more compatible that candidate is for jobs in that field. If a candidate does not contain the required skills for a job, they are not compatible for the job and should be ruled out. \n",
    "\n",
    "\t\t\t\t\t\t- Education and qualifications: Does the candidate meet the minimum education and qualification standards? Candidates that have education in a field will be more compatible with jobs in that same respective field. \n",
    "\n",
    "\t\t\t\t\t\t- Experience level: Does the candidate's work experience match the required experience level? If the candidate has a lot of experience in a particular field, they will be highly compatible with jobs in the same respective field and should be recommended a high status job in that field.\n",
    "\n",
    "\t\t\t\t\t\t- Keyword matching: How well do the keywords in the resume match the keywords in the job descriptions? A high compatibility individual will have many keywords in their resume which match the job description. This field should be weighed pretty highly. If a resume contains a lot of similar words, the candidate would be very compatible with the job. \n",
    "\n",
    "\t\t\t\t\t\t- Heuristic analysis: Is this job the best use of the user's abilities in this company or are there other jobs which fit the user's skills, abilities, and experiences better? Would a candidate of this experience or skill level be hard to find?(If they are hard to find, then they should be recommended more high level job positions)\"\"\"},\n",
    "\n",
    "                         {\"role\": \"system\", \"content\": \"\"\"Here are the steps in which you should use the resources provided up to determine whether or not the user's resume is fitting for a particular job:\n",
    "\n",
    "\t   \t\t\t\t\t1. Start iterating each job positions. \n",
    "\n",
    "\t   \t\t\t\t\t2. While iterating through each job, rank the provided candidate's resume with each judgement factor in a scale of compatibility out of 10 from the compatibility of their resume with that specific job description based on that one judgement factor point. Store those ranking values in a python list nested inside a python dictionary named rankingValues. The keys should be the title of the job position while the value should be the list with the ranked values. \n",
    "\n",
    "\t   \t\t\t\t\t3. Once you've iterated through all the jobs, take the scores in each list inside the dictionary and tally them up per each list, making a combined compatibility value per job. Store the combined compatibility values per job inside a python list named combineValues. They should be stored in tuple pairs for each index of the list with the first tuple index value being the job position name while the other being the combined compatibiilty value score of that job position that was calculated in the previous steps. \n",
    "\n",
    "\t   \t\t\t\t\t4. Take the combineValues list and sort it from the highest compatibility value to the lowest. \n",
    "\n",
    "\t   \t\t\t\t\t5. When the user requests n number of top search results, take the job positions at the first n values of the sorted combineValues list and use those as the top matching job positions. Return the top matching job positions for the user in the instructed format.\n",
    "\n",
    "\t\t\t\t\t\t\"\"\"},\n",
    "\n",
    "                         {\"role\": \"system\",\n",
    "                          \"content\": \"Your return message to the user should follow EXACTLY in format that will be described. It will be in the form of Python dictionaries nested in the Python list datatype in which you only need to return the Job ID and the Job Title inside each of the dictionaries. Simply return the job positions which fit best with the resume based on the prompts that were previously given to you. Do it in order - starting with the jobs that fit the best with the resume. Your return should NOT be in Python code. It should strictly be in the text format. Here is an example for the return format. [{'Job ID': Job ID, 'Job Title': Job Title}, {'Job ID': Job ID, 'Job Title': Job Title}]\"},\n",
    "                         {\"role\": \"system\", \"content\": \"Under no circumstances should you recommend a job to a candidate which they have no experience or education in. You must prioritize the jobs which an individual has experience in. Individuals with longer duration of time they've worked before(such as 2+ years) should be recommended higher tier jobs(and not internships). \"}]\n",
    "\n",
    "    completion = client.chat.completions.create(model=\"gpt-4o\", messages=instructionPrompt + [\n",
    "        # type: ignore\n",
    "        {\"role\": \"system\", \"content\": f\"Please return the top {resultsAmount} results for the search. \"}])\n",
    "\n",
    "    return completion.choices[0].message.content\n",
    "\n",
    "\n",
    "print(searchJobs(resumeText, 5))"
   ]
  },
  {
   "cell_type": "markdown",
   "metadata": {},
   "source": [
    "Variation 2\n",
    "\n",
    "Shorter prompts but still doesn't work that well\n"
   ]
  },
  {
   "cell_type": "code",
   "execution_count": 19,
   "metadata": {},
   "outputs": [
    {
     "name": "stdout",
     "output_type": "stream",
     "text": [
      "[{'Job ID': '3d5dcbbe-1c93-4d42-95fa-b664c6288a7c', 'Job Title': 'Business Development Internship'}, {'Job ID': '8d1912d0-b236-447a-954e-36f6722137fb', 'Job Title': 'Business Analyst/Business Consultant'}, {'Job ID': '1cdc21ea-7842-4078-9180-19481b39b9b2', 'Job Title': 'Software Tester (Automate test)'}, {'Job ID': '84705cdc-187b-4f03-a45d-4fe277a8fd41', 'Job Title': 'Technical Consultant (Presales) - Data Solutions'}, {'Job ID': '9f66cca6-23ac-4e44-9e7e-241f74e1c1b0', 'Job Title': 'Software Engineer (Software Implementer)'}]\n"
     ]
    }
   ],
   "source": [
    "def searchJobs(userResume: str, resultsAmount: int):\n",
    "    instructionPrompt = [{\"role\": \"system\", \"content\": \"You are a company's HR assistant. Your duty is to help search for the right job positions for a candidate by comparing all the job positions available with the candidate's job resume and returning the jobs which are the most fitting for the candidate's resume.\"},\n",
    "                         {\"role\": \"system\", \"content\": f\"Here are all the available job positions and their descriptions: \\n{\n",
    "                             jobs}\"},\n",
    "                         {\"role\": \"system\", \"content\": f\"Here is the candidate's resume: \\n{\n",
    "                             userResume}\"},\n",
    "                         {\"role\": \"system\", \"content\": \"Please have the reasoning for your recommendation for the jobs that you chose for the candidate written. However, you do not need to return it with the return message. \"},\n",
    "                         {\"role\": \"system\",\n",
    "                          \"content\": \"Your return message to the user should follow EXACTLY in format that will be described. It will be in the form of Python dictionaries nested in the Python list datatype in which you only need to return the Job ID and the Job Title inside each of the dictionaries. Simply return the job positions which fit best with the resume based on the prompts that were previously given to you. Do it in order - starting with the jobs that fit the best with the resume. Your return should NOT be in Python code. It should strictly be in the text format. Here is an example for the return format. [{'Job ID': Job ID, 'Job Title': Job Title}, {'Job ID': Job ID, 'Job Title': Job Title}]\"},\n",
    "                         {\"role\": \"system\", \"content\": \"Under no circumstances should you recommend a job to a candidate which they have no experience or education in. You must prioritize the jobs which an individual has experience in. Individuals with longer duration of time they've worked before(such as 2+ years) should be recommended higher tier jobs(and not internships). \"}]\n",
    "\n",
    "    completion = client.chat.completions.create(model=\"gpt-4o\", messages=instructionPrompt + [\n",
    "        # type: ignore\n",
    "        {\"role\": \"system\", \"content\": f\"Please return the top {resultsAmount} results for the search. \"}])\n",
    "    return completion.choices[0].message.content\n",
    "\n",
    "\n",
    "print(searchJobs(resumeText, 5))"
   ]
  },
  {
   "cell_type": "markdown",
   "metadata": {},
   "source": [
    "Variation 3: Sort of works but still not as good as I'd like it to be\n"
   ]
  },
  {
   "cell_type": "code",
   "execution_count": 8,
   "metadata": {},
   "outputs": [
    {
     "name": "stdout",
     "output_type": "stream",
     "text": [
      "[{'Job ID': '059d1ddc-61f7-4a16-95c8-79d007e6db3e', 'Job Title': 'Legal Documentation Assistant Intern'}, {'Job ID': '186ae342-3e59-484a-8db3-b0a28e1c554a', 'Job Title': 'IoT and Smart Solution Internship'}, {'Job ID': '3d5dcbbe-1c93-4d42-95fa-b664c6288a7c', 'Job Title': 'Business Development Internship'}, {'Job ID': '445f6122-4f93-437d-b554-15172f8bd98e', 'Job Title': 'Technical Consultant (Infra & BigData)'}, {'Job ID': '8d1912d0-b236-447a-954e-36f6722137fb', 'Job Title': 'Business Analyst/Business Consultant'}]\n"
     ]
    }
   ],
   "source": [
    "def searchJobs(userResume: str, resultsAmount: int):\n",
    "    instructionPrompt = [{\"role\": \"system\", \"content\": \"You are a company's HR assistant. You will read through a candidate's resume and return a python list in text format of the most important key words and knowledge from the resume in order to assist with choosing an appropriate position for the candidate at the company. Be sure to include key words about the client's previous work or education experience and the recommended caliber/authority level of a compatible job. Also include potential names for any suitable job positions or fields for the key words too. Try to include as many key words as possible(preferably at least 10). \"},\n",
    "                         {\"role\": \"system\", \"content\": f\"Here is the candidate's resume: \\n{\n",
    "                             userResume}\"},\n",
    "                         {\"role\": \"system\", \"content\": \"Your keywords should strictly be in this format as shown from an example: ['Engineer', 'Manager', 'Computer', 'Electrical Engineer', 'Project Leader']\"}]\n",
    "\n",
    "    resumeKeyWords = client.chat.completions.create(\n",
    "        # type: ignore\n",
    "        model=\"gpt-4o\", messages=instructionPrompt).choices[0].message.content\n",
    "\n",
    "    answer = client.chat.completions.create(model=\"gpt-4o\", messages=[\n",
    "        {\"role\": \"system\", \"content\": \"You are a company's HR manager. You will receive some key words from a candidate's resume and a list of available job positions at the company. Your job is to return a list of the most compatible jobs based on the key words provided from the candidate's resume. \"},\n",
    "        {\"role\": \"system\",\n",
    "         \"content\": f\"Here are the available jobs in the company: \\n{jobs}\"},\n",
    "        {\"role\": \"system\", \"content\": f\"Here are the key words from the user's resume: {\n",
    "            resumeKeyWords}\"},\n",
    "        {\"role\": \"system\", \"content\": \"Make sure to the return the most compatible jobs that fall in line with the keywords listed. Prioritize recommending more high quality jobs first and jobs that relate the most to the key words. \"},\n",
    "        {\"role\": \"system\",\n",
    "         \"content\": \"Your return message to the user should follow EXACTLY in format that will be described. It will be in the form of Python dictionaries nested in the Python list datatype in which you only need to return the Job ID and the Job Title inside each of the dictionaries. Simply return the job positions which fit best with the resume based on the prompts that were previously given to you. Do it in order - starting with the jobs that fit the best with the resume. Your return should NOT be in Python code. It should strictly be in the text format. Here is an example for the return format. [{'Job ID': Job ID, 'Job Title': Job Title}, {'Job ID': Job ID, 'Job Title': Job Title}]\"},\n",
    "        {\"role\": \"user\", \"content\": f\"Return the top {\n",
    "            resultsAmount} results for matching jobs. \"}\n",
    "    ])\n",
    "\n",
    "    return answer.choices[0].message.content\n",
    "\n",
    "\n",
    "print(searchJobs(resumeText, 5))"
   ]
  },
  {
   "cell_type": "markdown",
   "metadata": {},
   "source": [
    "Most all-in-one GPT algorithm finder functions don't work well\n",
    "\n",
    "- Algorithm to help minimize the size that GPT has to look through\n",
    "\n",
    "1. Have GPT find the keywords of the most important key words of the resume\n",
    "2. Have GPT split the jobs into categories\n",
    "3. Have GPT find the closest job categories for the resume keywords\n",
    "4. Find the closest job positions that are inside the job category for the resume\n"
   ]
  },
  {
   "cell_type": "code",
   "execution_count": 11,
   "metadata": {},
   "outputs": [],
   "source": [
    "from openai import AzureOpenAI\n",
    "from dotenv import dotenv_values\n",
    "\n",
    "secrets = dotenv_values(\"./.env\")\n",
    "\n",
    "client = AzureOpenAI(azure_endpoint=secrets[\"AZURE_OPENAI_ENDPOINT\"],  # type: ignore\n",
    "                     api_version=secrets[\"AZURE_OPENAI_API_VERSION\"],\n",
    "                     api_key=secrets[\"AZURE_OPENAI_API_KEY\"],\n",
    "                     azure_deployment=\"gpt4o\")"
   ]
  },
  {
   "cell_type": "markdown",
   "metadata": {},
   "source": [
    "Sorting job into categories in order to optimize speed of job matching\n"
   ]
  },
  {
   "cell_type": "code",
   "execution_count": 13,
   "metadata": {},
   "outputs": [
    {
     "name": "stdout",
     "output_type": "stream",
     "text": [
      "dict_keys(['IT Project Management', 'Software Development', 'Database Systems', 'System and Network Administration', 'Data and Analytics', 'Business and Financial Analysis', 'Creative and Marketing', 'Sales and Customer Support'])\n"
     ]
    }
   ],
   "source": [
    "import json\n",
    "\n",
    "\n",
    "def sortJobIntoCategories(jobs, client) -> dict:\n",
    "    # Generate the job categories to optimize search times\n",
    "    instructionPrompt = [{\"role\": \"system\", \"content\": f\"\"\"You will be given a list of jobs - sort them into different job categories which you deem fit for the job. Do not sort them into more than 8 cateogories.\n",
    "                                                                       Under no circumstances should you make a separate category purely for Internships. DO NOT MAKE A SEPARATE CATEGORY FOR INTERNSHIPS. Under no circumstances will you make a separate category for 'Miscellaneous' - you must put the jobs into a category.\n",
    "                                                                       Here are the jobs that you should sort: {jobs}\"\"\" + \"\\nYour return format for the sorted jobs inside their categories should be python dictionaries nested inside the main python dictionary(but return it in pure text and only in the format shown - you do not need to show it as code in python or anything - just give the dictionary in it's pure form). Under no circumstances should you add any other text other than the answer you should give. It should be in the format exacty like this(make sure not to foget the ' character): {'Job Category': {'Job Title': 'Job ID', 'Job Title': 'Job ID'}, 'Job Category': {'Job Title': 'Job ID', 'Job Title': 'Job ID'} }\"}]\n",
    "\n",
    "    global sortedJobs\n",
    "    sortedJobs = client.chat.completions.create(\n",
    "        # type: ignore\n",
    "        model=\"gpt-4-turbo\", messages=instructionPrompt).choices[0].message.content\n",
    "    # Convert the dictionary returned into an usable format(not string)\n",
    "    exec(f\"sortedJobs = {sortedJobs}\", globals())\n",
    "\n",
    "    # Save the sorted jobs\n",
    "    with open(\"./assets/data/categorized_job_titles.jsonl\", \"w\", encoding=\"UTF-8\") as file:\n",
    "        json.dump(sortedJobs, file, ensure_ascii=False)\n",
    "\n",
    "    return sortedJobs\n",
    "\n",
    "\n",
    "jobs_sorted = sortJobIntoCategories(jobs=jobs, client=client)\n",
    "\n",
    "\n",
    "print(jobs_sorted.keys())"
   ]
  },
  {
   "cell_type": "markdown",
   "metadata": {},
   "source": [
    "Run this cell if you need to get the sorted jobs\n"
   ]
  },
  {
   "cell_type": "code",
   "execution_count": 9,
   "metadata": {},
   "outputs": [
    {
     "name": "stdout",
     "output_type": "stream",
     "text": [
      "dict_keys(['Project Management', 'Software Engineering', 'Database Administration', 'System Engineering', 'Business Development', 'Marketing & Communications', 'Consulting', 'Graphic Design', 'IT Support', 'Network Engineering', 'Accounting & Finance', 'Human Resources', 'Cyber Security', 'Operations', 'Deployment & Support', 'Development', 'Legal', 'Purchasing', 'Consulting and Strategy', 'Data Engineering'])\n"
     ]
    }
   ],
   "source": [
    "\n",
    "\n",
    "print(jobs_sorted.keys())"
   ]
  },
  {
   "cell_type": "markdown",
   "metadata": {},
   "source": [
    "Final Variation\n",
    "\n",
    "This variation works the best\n",
    "\n",
    "- Learned that the most effect prompts for GPT are ones that are concise, yet short(don't micromanage the tasks). They should also just be inside one entire string - don't need to separate into multiple messages since it'll just cause more hallucinations. "
   ]
  },
  {
   "cell_type": "code",
   "execution_count": 13,
   "metadata": {},
   "outputs": [
    {
     "name": "stdout",
     "output_type": "stream",
     "text": [
      "{'status': 200, 'message': 'Matching jobs successfully found'}\n"
     ]
    }
   ],
   "source": [
    "def searchJobs(userResume: str, resultsAmount: int, sortedJobs):\n",
    "    # Get the resume, and find the appropriate job categories from the list of job categories\n",
    "    instructionPrompt = [{\"role\": \"system\", \"content\": \"You will be given job categories and a resume. Find the job categories which are most compatible for the resume given. Return ONLY the suitable job cateogories in this example format: ['Engineering', 'System Informations', 'Psychology']. Do not return any other text except that. \" +\n",
    "                          f\"\"\"Here is the resume: \\n{userResume}Here are the job categories: \\n{list(sortedJobs.keys())}\"\"\"}]\n",
    "    global chosenCategories\n",
    "    chosenCategories = client.chat.completions.create(\n",
    "        # type: ignore\n",
    "        model=\"gpt-4o\", messages=instructionPrompt).choices[0].message.content\n",
    "    # Set it into a python recognizable list while making sure it's also inside the sortedJobs list\n",
    "    exec(f\"chosenCategories = [category for category in {\n",
    "         chosenCategories} if category in sortedJobs.keys()]\", globals())\n",
    "    # Return all the jobs in the requested categories\n",
    "    # sortedJobs.values = all {job title: job ID} values\n",
    "    # Make a dictionary of all the jobs that are part of the chosen categories(combined)\n",
    "    chosenJobs = {}\n",
    "    for category in chosenCategories:\n",
    "        for jobTitle in sortedJobs[category]:\n",
    "            jobID = sortedJobs[category][jobTitle]\n",
    "            chosenJobs[jobID] = {\"Title\": jobTitle,\n",
    "                                 \"Description\": jobs[jobID][\"Description\"]}\n",
    "\n",
    "    instructionPrompt = [{\"role\": \"system\", \"content\": f\"\"\"Your job is to choose the most compatible jobs inside a provided list of jobs(and job descriptions for that job) based on a candidate's resume that is given.\n",
    "                                                                                    Keep in mind that the 'Special assignment' descriptor inside the job descriptions indicate that it is a high level job. You should only recommend high level positions if the candidate is qualified and has a lot of experience.\n",
    "                                                                                    Here is the candidate's resume: \\n{userResume}\n",
    "                                                                                    \\nPlease return the top {resultsAmount} jobs which suit the candidate the best. \\n\"\"\"+\"Here is a dictionary of jobs inside the categories that suits the user's resume(Each set in the dictionary is in this format - Job ID: {'Title': Job title, 'Description': Job Description): \\n\" + f\"{chosenJobs}\\n\" + \"Your return message to the user should follow EXACTLY in format that will be described. It will be in the form of Python dictionaries nested in the Python list datatype in which you only need to return the Job ID and the Job Title inside each of the dictionaries. Your return should NOT be in Python code. It should strictly be in the text format. Here is an example for the return format. [{'Job ID': Job ID, 'Job Title': Job Title} , {'Job ID': Job ID, 'Job Title': Job Title}]\"}]\n",
    "\n",
    "    global selectedJobs\n",
    "    selectedJobs = client.chat.completions.create(\n",
    "        # type: ignore\n",
    "        model=\"gpt-4o\", messages=instructionPrompt).choices[0].message.content\n",
    "    exec(f\"selectedJobs = {selectedJobs}\", globals())\n",
    "\n",
    "    return {\"status\": 200, \"message\": \"Matching jobs successfully found\", \"content\": selectedJobs}\n",
    "\n",
    "\n",
    "# Get the sorted jobs from the json categorized_job_titles.jsonl in assets first\n",
    "print(searchJobs(resumeText, 5, jobs_sorted))"
   ]
  },
  {
   "cell_type": "markdown",
   "metadata": {},
   "source": [
    "# Job Scoring algorithm\n",
    "\n",
    "- Have GPT generate a grading scale for user reference along with for the AI to reference\n",
    "- Parameters: Job to score, Resume of the user\n"
   ]
  },
  {
   "cell_type": "code",
   "execution_count": 22,
   "metadata": {},
   "outputs": [
    {
     "name": "stdout",
     "output_type": "stream",
     "text": [
      "{'status': 200, 'message': 'Score evaluation successful', 'content': {'Education': 0, 'Skills': 0, 'Experience': 0}}\n"
     ]
    }
   ],
   "source": [
    "def score_job(jobSet, userResume: str):\n",
    "    instructionPrompt = [{\"role\": \"system\", \"content\": f\"\"\"You will be given a job and it's description along with a candidate's resume for the job. Your purpose is to score the candidate's compatibiility with the job and give out a score for the Education, Skills, and Experience categories.\n",
    "                                            Here is a grading scale that you can go off of for the scoring(keep in mind this is only something to go off of. Scoring requirements should not be the same for every job. Use your own judgement capabilities to score with this grading scale as a simple reference. For example, applying for a software tester job won't have as much educational requirements as applying for a data analyst job):\n",
    "                                            Grading Scale\n",
    "                                            Education Score (0-10)\n",
    "                                            10: Candidate possesses an advanced degree (e.g., PhD, MD) directly relevant to the position.\n",
    "                                            5: Candidate holds a bachelor's degree in a related field.\n",
    "                                            0: Candidate lacks any formal education or equivalent qualifications.\n",
    "                                            Skill Score (0-10)\n",
    "                                            10: Candidate possesses an exceptional level of proficiency in all required skills.\n",
    "                                            5: Candidate has basic proficiency in required skills, but may need additional training or development.\n",
    "                                            0: Candidate possesses few or no relevant skills.\n",
    "                                            Experience Score (0-10)\n",
    "                                            10: Candidate has extensive, directly relevant experience in a similar role, demonstrating exceptional performance and achievements.\n",
    "                                            5: Candidate has some experience in related fields, but may require additional on-the-job training.\n",
    "                                            0: Candidate has no identifiable work experience.\n",
    "                                            Here is the job to analyze: {jobSet}\\nHere is the candidate's resume: {userResume}\"\"\"\n",
    "                          + \"Your return format should STRICTLY be in the format that will be shown. There should be no other text or reply except in this format for the scoring: {'Education': 5, 'Skills': 10, 'Experience': 9}\"}]\n",
    "\n",
    "    global scoreDict\n",
    "    scoreDict = client.chat.completions.create(\n",
    "        # type: ignore\n",
    "        model=\"gpt-4o\", messages=instructionPrompt).choices[0].message.content\n",
    "    exec(f\"scoreDict = {scoreDict}\", globals())\n",
    "    # Http code 200 - content successfully retrieved\n",
    "    return {\"status\": 200, \"message\": \"Score evaluation successful\", \"content\": scoreDict}\n",
    "\n",
    "\n",
    "print(score_job(\n",
    "    jobSet=jobs[\"0fcccb68-3c78-41c3-bdcb-04b2d77c4466\"], userResume=resumeText))"
   ]
  },
  {
   "cell_type": "markdown",
   "metadata": {},
   "source": [
    "# Add files function\n",
    "\n",
    "- Add a job to the raw job data file\n",
    "- Re-generate the job categories\n"
   ]
  },
  {
   "cell_type": "code",
   "execution_count": 50,
   "metadata": {},
   "outputs": [
    {
     "name": "stdout",
     "output_type": "stream",
     "text": [
      "{'status': 409, 'message': 'Conflict since the job position already exists'}\n"
     ]
    }
   ],
   "source": [
    "import csv\n",
    "\n",
    "\n",
    "def add_job(jobDatabasePath: str, job_id: str, job_title: str, job_description: str, openAIclient) -> dict:\n",
    "    jobDatabase = {}\n",
    "    # Get the jobs\n",
    "    with open(jobDatabasePath, \"r\", encoding=\"UTF-8\") as file:\n",
    "        reader = csv.DictReader(file)\n",
    "        for row in reader:\n",
    "            # Remove the unecessary job data - only need ID, title, description\n",
    "            jobDatabase[row[\"Job ID\"]] = {\n",
    "                \"Title\": row[\"Title\"], \"Description\": row[\"Description\"]}\n",
    "\n",
    "    # check if the job already exists in the database(based off of job_id and job name)\n",
    "    jobTitles = [value[\"Title\"] for value in jobDatabase.values()]\n",
    "    if (job_id in jobDatabase) or (job_title in jobTitles):\n",
    "        # Http status code 409 - conflict since the job position already exists\n",
    "        return {\"status\": 409, \"message\": \"Conflict since the job position already exists\"}\n",
    "\n",
    "    # Add the new job into the database\n",
    "    with open(jobDatabasePath, \"a\", encoding=\"UTF-8\") as file:\n",
    "        writer = csv.DictWriter(\n",
    "            file, fieldnames=[\"Job ID\", \"Title\", \"Description\"])\n",
    "        writer.writerow({\"Job ID\": job_id, \"Title\": job_title,\n",
    "                        \"Description\": job_description})\n",
    "\n",
    "    # DO NOT run this for test cases\n",
    "    # Re-optimize the database to incorporate new data(splits the database into groups)\n",
    "    # More efficient way to do this would just be to add it into the correct place in the same json file, but this is just a demo so to save coding time, we will just re-generate the optimizer file\n",
    "    sortJobIntoCategories(jobs=jobDatabase, client=openAIclient)\n",
    "\n",
    "    # Return indicating a successful adding of the jobs\n",
    "    # Http code 201 - created successfully\n",
    "    return {\"status\": 409, \"message\": \"New job added successfully\"}\n",
    "\n",
    "\n",
    "print(add_job(\"./assets/data/raw_job_data.csv\",\n",
    "      \"test1234\", \"test\", \"whatever description\", client))"
   ]
  },
  {
   "cell_type": "markdown",
   "metadata": {},
   "source": [
    "# API Testing - api code complete\n"
   ]
  },
  {
   "cell_type": "markdown",
   "metadata": {},
   "source": [
    "Score jobs function"
   ]
  },
  {
   "cell_type": "code",
   "execution_count": 47,
   "metadata": {},
   "outputs": [
    {
     "name": "stdout",
     "output_type": "stream",
     "text": [
      "b'{\"status\":200,\"message\":\"Score evaluation with job(People Benefits and Well-Being Internship) and resume was successful\",\"content\":{\"Education\":5,\"Skills\":5,\"Experience\":4}}'\n"
     ]
    }
   ],
   "source": [
    "import requests\n",
    "\n",
    "with open(\"./assets/resumes/resume_sample.pdf\", \"rb\") as file:\n",
    "    response = requests.post(\"http://127.0.0.1:8000/score_job/\", files={\n",
    "                             \"resumePdfFile\": file}, params={\"job_id\": \"57babd41-e03e-4ab4-991c-d9fe59ac506f\"})\n",
    "    print(response.content)"
   ]
  },
  {
   "cell_type": "markdown",
   "metadata": {},
   "source": [
    "Search jobs function"
   ]
  },
  {
   "cell_type": "code",
   "execution_count": 49,
   "metadata": {},
   "outputs": [
    {
     "name": "stdout",
     "output_type": "stream",
     "text": [
      "b'{\"status\":200,\"message\":\"Matching jobs successfully found\",\"content\":[{\"Job ID\":\"0bfbb59a-b5b2-41c8-876e-e15ae3be1fbe\",\"Job Title\":\"Innovation Consultant\"},{\"Job ID\":\"490f3b59-29b6-419f-a701-c349729bfe69\",\"Job Title\":\"Project Engineer\"},{\"Job ID\":\"85aea70c-29ee-4a86-b313-2a75dfb69557\",\"Job Title\":\"Assistance customer success manager (Streaming Platform and development)\"},{\"Job ID\":\"ecb5c77b-2152-456f-8027-a38fe9659ba7\",\"Job Title\":\"Helpdesk Engineer\"},{\"Job ID\":\"20ff36c1-e57a-4d0d-8dde-5c2511d738a9\",\"Job Title\":\"Customer Support Engineer\"}]}'\n"
     ]
    }
   ],
   "source": [
    "# Test search jobs\n",
    "\n",
    "with open(\"./assets/resumes/functionalSample.pdf\", \"rb\") as file:\n",
    "    response = requests.post(\n",
    "        \"http://127.0.0.1:8000/search_job/\", files={\"resumePdfFile\": file})\n",
    "    print(response.content)"
   ]
  },
  {
   "cell_type": "markdown",
   "metadata": {},
   "source": []
  },
  {
   "cell_type": "markdown",
   "metadata": {},
   "source": []
  }
 ],
 "metadata": {
  "kernelspec": {
   "display_name": "Python 3",
   "language": "python",
   "name": "python3"
  },
  "language_info": {
   "codemirror_mode": {
    "name": "ipython",
    "version": 3
   },
   "file_extension": ".py",
   "mimetype": "text/x-python",
   "name": "python",
   "nbconvert_exporter": "python",
   "pygments_lexer": "ipython3",
   "version": "3.12.4"
  }
 },
 "nbformat": 4,
 "nbformat_minor": 2
}
